{
 "cells": [
  {
   "cell_type": "markdown",
   "id": "27075feb",
   "metadata": {},
   "source": [
    "Data Preprocessing:\n",
    "\n",
    "Pre-process the dataset to ensure it is suitable for Association rules, this may include handling missing values, removing duplicates, and converting the data to appropriate format.  "
   ]
  },
  {
   "cell_type": "code",
   "execution_count": 1,
   "id": "abffc298",
   "metadata": {},
   "outputs": [],
   "source": [
    "import pandas as pd \n",
    "import numpy as np "
   ]
  },
  {
   "cell_type": "code",
   "execution_count": 2,
   "id": "a294c6b6",
   "metadata": {},
   "outputs": [
    {
     "data": {
      "application/vnd.microsoft.datawrangler.viewer.v0+json": {
       "columns": [
        {
         "name": "index",
         "rawType": "int64",
         "type": "integer"
        },
        {
         "name": "shrimp,almonds,avocado,vegetables mix,green grapes,whole weat flour,yams,cottage cheese,energy drink,tomato juice,low fat yogurt,green tea,honey,salad,mineral water,salmon,antioxydant juice,frozen smoothie,spinach,olive oil",
         "rawType": "object",
         "type": "string"
        }
       ],
       "ref": "df7f58a8-89b1-4a1b-83be-1274cf2a621d",
       "rows": [
        [
         "0",
         "burgers,meatballs,eggs"
        ],
        [
         "1",
         "chutney"
        ],
        [
         "2",
         "turkey,avocado"
        ],
        [
         "3",
         "mineral water,milk,energy bar,whole wheat rice,green tea"
        ],
        [
         "4",
         "low fat yogurt"
        ]
       ],
       "shape": {
        "columns": 1,
        "rows": 5
       }
      },
      "text/html": [
       "<div>\n",
       "<style scoped>\n",
       "    .dataframe tbody tr th:only-of-type {\n",
       "        vertical-align: middle;\n",
       "    }\n",
       "\n",
       "    .dataframe tbody tr th {\n",
       "        vertical-align: top;\n",
       "    }\n",
       "\n",
       "    .dataframe thead th {\n",
       "        text-align: right;\n",
       "    }\n",
       "</style>\n",
       "<table border=\"1\" class=\"dataframe\">\n",
       "  <thead>\n",
       "    <tr style=\"text-align: right;\">\n",
       "      <th></th>\n",
       "      <th>shrimp,almonds,avocado,vegetables mix,green grapes,whole weat flour,yams,cottage cheese,energy drink,tomato juice,low fat yogurt,green tea,honey,salad,mineral water,salmon,antioxydant juice,frozen smoothie,spinach,olive oil</th>\n",
       "    </tr>\n",
       "  </thead>\n",
       "  <tbody>\n",
       "    <tr>\n",
       "      <th>0</th>\n",
       "      <td>burgers,meatballs,eggs</td>\n",
       "    </tr>\n",
       "    <tr>\n",
       "      <th>1</th>\n",
       "      <td>chutney</td>\n",
       "    </tr>\n",
       "    <tr>\n",
       "      <th>2</th>\n",
       "      <td>turkey,avocado</td>\n",
       "    </tr>\n",
       "    <tr>\n",
       "      <th>3</th>\n",
       "      <td>mineral water,milk,energy bar,whole wheat rice...</td>\n",
       "    </tr>\n",
       "    <tr>\n",
       "      <th>4</th>\n",
       "      <td>low fat yogurt</td>\n",
       "    </tr>\n",
       "  </tbody>\n",
       "</table>\n",
       "</div>"
      ],
      "text/plain": [
       "  shrimp,almonds,avocado,vegetables mix,green grapes,whole weat flour,yams,cottage cheese,energy drink,tomato juice,low fat yogurt,green tea,honey,salad,mineral water,salmon,antioxydant juice,frozen smoothie,spinach,olive oil\n",
       "0                             burgers,meatballs,eggs                                                                                                                                                                             \n",
       "1                                            chutney                                                                                                                                                                             \n",
       "2                                     turkey,avocado                                                                                                                                                                             \n",
       "3  mineral water,milk,energy bar,whole wheat rice...                                                                                                                                                                             \n",
       "4                                     low fat yogurt                                                                                                                                                                             "
      ]
     },
     "execution_count": 2,
     "metadata": {},
     "output_type": "execute_result"
    }
   ],
   "source": [
    "df = pd.read_excel(\"Online Retail.xlsx\")\n",
    "df.head()"
   ]
  },
  {
   "cell_type": "code",
   "execution_count": 3,
   "id": "cdf05396",
   "metadata": {},
   "outputs": [
    {
     "name": "stdout",
     "output_type": "stream",
     "text": [
      "Total Number of Columns : 7500\n"
     ]
    }
   ],
   "source": [
    "print(\"Total Number of Columns :\", str(len(df)))"
   ]
  },
  {
   "cell_type": "markdown",
   "id": "c5385165",
   "metadata": {},
   "source": [
    "Missing Value"
   ]
  },
  {
   "cell_type": "code",
   "execution_count": 4,
   "id": "e9bedb34",
   "metadata": {},
   "outputs": [
    {
     "name": "stdout",
     "output_type": "stream",
     "text": [
      "shrimp,almonds,avocado,vegetables mix,green grapes,whole weat flour,yams,cottage cheese,energy drink,tomato juice,low fat yogurt,green tea,honey,salad,mineral water,salmon,antioxydant juice,frozen smoothie,spinach,olive oil    0\n",
      "dtype: int64\n"
     ]
    }
   ],
   "source": [
    "print(df.isnull().sum())"
   ]
  },
  {
   "cell_type": "code",
   "execution_count": 5,
   "id": "4356cb64",
   "metadata": {},
   "outputs": [
    {
     "name": "stdout",
     "output_type": "stream",
     "text": [
      "Requirement already satisfied: mlxtend in /opt/anaconda3/envs/ai/lib/python3.10/site-packages (0.23.4)\n",
      "Requirement already satisfied: scipy>=1.2.1 in /opt/anaconda3/envs/ai/lib/python3.10/site-packages (from mlxtend) (1.15.3)\n",
      "Requirement already satisfied: numpy>=1.16.2 in /opt/anaconda3/envs/ai/lib/python3.10/site-packages (from mlxtend) (2.2.6)\n",
      "Requirement already satisfied: pandas>=0.24.2 in /opt/anaconda3/envs/ai/lib/python3.10/site-packages (from mlxtend) (2.3.1)\n",
      "Requirement already satisfied: scikit-learn>=1.3.1 in /opt/anaconda3/envs/ai/lib/python3.10/site-packages (from mlxtend) (1.7.1)\n",
      "Requirement already satisfied: matplotlib>=3.0.0 in /opt/anaconda3/envs/ai/lib/python3.10/site-packages (from mlxtend) (3.10.3)\n",
      "Requirement already satisfied: joblib>=0.13.2 in /opt/anaconda3/envs/ai/lib/python3.10/site-packages (from mlxtend) (1.5.1)\n",
      "Requirement already satisfied: contourpy>=1.0.1 in /opt/anaconda3/envs/ai/lib/python3.10/site-packages (from matplotlib>=3.0.0->mlxtend) (1.3.2)\n",
      "Requirement already satisfied: cycler>=0.10 in /opt/anaconda3/envs/ai/lib/python3.10/site-packages (from matplotlib>=3.0.0->mlxtend) (0.12.1)\n",
      "Requirement already satisfied: fonttools>=4.22.0 in /opt/anaconda3/envs/ai/lib/python3.10/site-packages (from matplotlib>=3.0.0->mlxtend) (4.59.0)\n",
      "Requirement already satisfied: kiwisolver>=1.3.1 in /opt/anaconda3/envs/ai/lib/python3.10/site-packages (from matplotlib>=3.0.0->mlxtend) (1.4.8)\n",
      "Requirement already satisfied: packaging>=20.0 in /opt/anaconda3/envs/ai/lib/python3.10/site-packages (from matplotlib>=3.0.0->mlxtend) (25.0)\n",
      "Requirement already satisfied: pillow>=8 in /opt/anaconda3/envs/ai/lib/python3.10/site-packages (from matplotlib>=3.0.0->mlxtend) (11.3.0)\n",
      "Requirement already satisfied: pyparsing>=2.3.1 in /opt/anaconda3/envs/ai/lib/python3.10/site-packages (from matplotlib>=3.0.0->mlxtend) (3.2.3)\n",
      "Requirement already satisfied: python-dateutil>=2.7 in /opt/anaconda3/envs/ai/lib/python3.10/site-packages (from matplotlib>=3.0.0->mlxtend) (2.9.0.post0)\n",
      "Requirement already satisfied: pytz>=2020.1 in /opt/anaconda3/envs/ai/lib/python3.10/site-packages (from pandas>=0.24.2->mlxtend) (2025.2)\n",
      "Requirement already satisfied: tzdata>=2022.7 in /opt/anaconda3/envs/ai/lib/python3.10/site-packages (from pandas>=0.24.2->mlxtend) (2025.2)\n",
      "Requirement already satisfied: six>=1.5 in /opt/anaconda3/envs/ai/lib/python3.10/site-packages (from python-dateutil>=2.7->matplotlib>=3.0.0->mlxtend) (1.17.0)\n",
      "Requirement already satisfied: threadpoolctl>=3.1.0 in /opt/anaconda3/envs/ai/lib/python3.10/site-packages (from scikit-learn>=1.3.1->mlxtend) (3.6.0)\n"
     ]
    }
   ],
   "source": [
    "!pip install mlxtend"
   ]
  },
  {
   "cell_type": "markdown",
   "id": "708a7916",
   "metadata": {},
   "source": [
    "Association Rule Mining:\n",
    "\n",
    "Implement an Apriori algorithm using tool like python with libraries such as Pandas and Mlxtend etc.\n",
    "\n",
    " Apply association rule mining techniques to the pre-processed dataset to discover interesting relationships between products purchased together.\n",
    "\n",
    "Set appropriate threshold for support, confidence and lift to extract meaning full rules."
   ]
  },
  {
   "cell_type": "code",
   "execution_count": 8,
   "id": "a32786a0",
   "metadata": {},
   "outputs": [
    {
     "name": "stdout",
     "output_type": "stream",
     "text": [
      "0                           [burgers, meatballs, eggs]\n",
      "1                                            [chutney]\n",
      "2                                    [turkey, avocado]\n",
      "3    [mineral water, milk, energy bar, whole wheat ...\n",
      "4                                     [low fat yogurt]\n",
      "Name: shrimp,almonds,avocado,vegetables mix,green grapes,whole weat flour,yams,cottage cheese,energy drink,tomato juice,low fat yogurt,green tea,honey,salad,mineral water,salmon,antioxydant juice,frozen smoothie,spinach,olive oil, dtype: object\n"
     ]
    }
   ],
   "source": [
    "# 2. Convert each transaction row into a list of items\n",
    "transactions = df.iloc[:, 0].apply(\n",
    "    lambda x: [item.strip() for item in str(x).split(',') if item.strip()]\n",
    ")\n",
    "print(transactions.head())"
   ]
  },
  {
   "cell_type": "code",
   "execution_count": null,
   "id": "4ce8a3ce",
   "metadata": {},
   "outputs": [
    {
     "name": "stdout",
     "output_type": "stream",
     "text": [
      "      antecedents      consequents  antecedent support  consequent support  \\\n",
      "67    (spaghetti)    (ground beef)            0.174133            0.098267   \n",
      "66  (ground beef)      (spaghetti)            0.098267            0.174133   \n",
      "89    (spaghetti)      (olive oil)            0.174133            0.065733   \n",
      "88    (olive oil)      (spaghetti)            0.065733            0.174133   \n",
      "81         (soup)  (mineral water)            0.050533            0.238267   \n",
      "\n",
      "     support  confidence      lift  representativity  leverage  conviction  \\\n",
      "67  0.039200    0.225115  2.290857               1.0  0.022088    1.163699   \n",
      "66  0.039200    0.398915  2.290857               1.0  0.022088    1.373959   \n",
      "89  0.022933    0.131700  2.003547               1.0  0.011487    1.075972   \n",
      "88  0.022933    0.348884  2.003547               1.0  0.011487    1.268387   \n",
      "81  0.023067    0.456464  1.915771               1.0  0.011026    1.401441   \n",
      "\n",
      "    zhangs_metric   jaccard  certainty  kulczynski  \n",
      "67       0.682292  0.168096   0.140672    0.312015  \n",
      "66       0.624888  0.168096   0.272176    0.312015  \n",
      "89       0.606497  0.105716   0.070608    0.240292  \n",
      "88       0.536127  0.105716   0.211597    0.240292  \n",
      "81       0.503458  0.086804   0.286449    0.276637  \n"
     ]
    }
   ],
   "source": [
    "from mlxtend.preprocessing import TransactionEncoder\n",
    "from mlxtend.frequent_patterns import apriori, association_rules\n",
    "\n",
    "#Encode the transaction \n",
    "te = TransactionEncoder() # OBJECT of TransactionEncoder\n",
    "te_array = te.fit_transform(transactions) # 2D array\n",
    "df = pd.DataFrame(te_array, columns=te.columns_) # DataFrame\n",
    "\n",
    "# Apply Apriori \n",
    "frequent_itemsets = apriori(df,min_support=0.02, use_colnames=True)\n",
    "\n",
    "# Generate rules\n",
    "rules = association_rules(frequent_itemsets, metric=\"lift\", min_threshold=1.0)\n",
    "\n",
    "#sort and view top rules\n",
    "rules = rules.sort_values(by='lift', ascending=False)\n",
    "print(rules.head())"
   ]
  },
  {
   "cell_type": "markdown",
   "id": "4c4d3359",
   "metadata": {},
   "source": [
    "Analysis and Interpretation:\n",
    "\n",
    "Analyse the generated rules to identify interesting patterns and relationships between the products.\n",
    "\n",
    "Interpret the results and provide insights into customer purchasing behaviour based on the discovered rules."
   ]
  },
  {
   "cell_type": "markdown",
   "id": "a63f7060",
   "metadata": {},
   "source": [
    "Answer :-\n",
    "\n",
    "Adjust min_support (e.g., 0.01–0.05) to control how frequent an itemset must be.\n",
    "\n",
    "Filter rules further by confidence (e.g., rules[rules['confidence']>0.3]) for stronger rules.\n",
    "\n",
    "Look at columns like antecedents, consequents, support, confidence, and lift to interpret customer buying patterns."
   ]
  }
 ],
 "metadata": {
  "kernelspec": {
   "display_name": "ai",
   "language": "python",
   "name": "python3"
  },
  "language_info": {
   "codemirror_mode": {
    "name": "ipython",
    "version": 3
   },
   "file_extension": ".py",
   "mimetype": "text/x-python",
   "name": "python",
   "nbconvert_exporter": "python",
   "pygments_lexer": "ipython3",
   "version": "3.10.18"
  }
 },
 "nbformat": 4,
 "nbformat_minor": 5
}
