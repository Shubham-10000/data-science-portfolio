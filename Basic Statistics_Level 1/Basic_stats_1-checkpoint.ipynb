{
 "cells": [
  {
   "cell_type": "code",
   "execution_count": 1,
   "id": "d18fbe84",
   "metadata": {},
   "outputs": [],
   "source": [
    "# Descriptive Analytics for Numerical Columns"
   ]
  },
  {
   "cell_type": "code",
   "execution_count": 2,
   "id": "0299742a",
   "metadata": {},
   "outputs": [],
   "source": [
    "import pandas as pd\n",
    "import matplotlib.pyplot as plt\n",
    "import seaborn as sns\n",
    "import warnings\n",
    "warnings.filterwarnings('ignore')"
   ]
  },
  {
   "cell_type": "code",
   "execution_count": 3,
   "id": "59e210a0",
   "metadata": {},
   "outputs": [],
   "source": [
    "data = pd.read_csv('sales_data_with_discounts.csv')"
   ]
  },
  {
   "cell_type": "code",
   "execution_count": 4,
   "id": "0bb3a1a9",
   "metadata": {},
   "outputs": [
    {
     "data": {
      "text/html": [
       "<div>\n",
       "<style scoped>\n",
       "    .dataframe tbody tr th:only-of-type {\n",
       "        vertical-align: middle;\n",
       "    }\n",
       "\n",
       "    .dataframe tbody tr th {\n",
       "        vertical-align: top;\n",
       "    }\n",
       "\n",
       "    .dataframe thead th {\n",
       "        text-align: right;\n",
       "    }\n",
       "</style>\n",
       "<table border=\"1\" class=\"dataframe\">\n",
       "  <thead>\n",
       "    <tr style=\"text-align: right;\">\n",
       "      <th></th>\n",
       "      <th>Date</th>\n",
       "      <th>Day</th>\n",
       "      <th>SKU</th>\n",
       "      <th>City</th>\n",
       "      <th>Volume</th>\n",
       "      <th>BU</th>\n",
       "      <th>Brand</th>\n",
       "      <th>Model</th>\n",
       "      <th>Avg Price</th>\n",
       "      <th>Total Sales Value</th>\n",
       "      <th>Discount Rate (%)</th>\n",
       "      <th>Discount Amount</th>\n",
       "      <th>Net Sales Value</th>\n",
       "    </tr>\n",
       "  </thead>\n",
       "  <tbody>\n",
       "    <tr>\n",
       "      <th>0</th>\n",
       "      <td>01-04-2021</td>\n",
       "      <td>Thursday</td>\n",
       "      <td>M01</td>\n",
       "      <td>C</td>\n",
       "      <td>15</td>\n",
       "      <td>Mobiles</td>\n",
       "      <td>RealU</td>\n",
       "      <td>RU-10</td>\n",
       "      <td>12100</td>\n",
       "      <td>181500</td>\n",
       "      <td>11.654820</td>\n",
       "      <td>21153.498820</td>\n",
       "      <td>160346.501180</td>\n",
       "    </tr>\n",
       "    <tr>\n",
       "      <th>1</th>\n",
       "      <td>01-04-2021</td>\n",
       "      <td>Thursday</td>\n",
       "      <td>M02</td>\n",
       "      <td>C</td>\n",
       "      <td>10</td>\n",
       "      <td>Mobiles</td>\n",
       "      <td>RealU</td>\n",
       "      <td>RU-9 Plus</td>\n",
       "      <td>10100</td>\n",
       "      <td>101000</td>\n",
       "      <td>11.560498</td>\n",
       "      <td>11676.102961</td>\n",
       "      <td>89323.897039</td>\n",
       "    </tr>\n",
       "    <tr>\n",
       "      <th>2</th>\n",
       "      <td>01-04-2021</td>\n",
       "      <td>Thursday</td>\n",
       "      <td>M03</td>\n",
       "      <td>C</td>\n",
       "      <td>7</td>\n",
       "      <td>Mobiles</td>\n",
       "      <td>YouM</td>\n",
       "      <td>YM-99</td>\n",
       "      <td>16100</td>\n",
       "      <td>112700</td>\n",
       "      <td>9.456886</td>\n",
       "      <td>10657.910157</td>\n",
       "      <td>102042.089843</td>\n",
       "    </tr>\n",
       "    <tr>\n",
       "      <th>3</th>\n",
       "      <td>01-04-2021</td>\n",
       "      <td>Thursday</td>\n",
       "      <td>M04</td>\n",
       "      <td>C</td>\n",
       "      <td>6</td>\n",
       "      <td>Mobiles</td>\n",
       "      <td>YouM</td>\n",
       "      <td>YM-99 Plus</td>\n",
       "      <td>20100</td>\n",
       "      <td>120600</td>\n",
       "      <td>6.935385</td>\n",
       "      <td>8364.074702</td>\n",
       "      <td>112235.925298</td>\n",
       "    </tr>\n",
       "    <tr>\n",
       "      <th>4</th>\n",
       "      <td>01-04-2021</td>\n",
       "      <td>Thursday</td>\n",
       "      <td>M05</td>\n",
       "      <td>C</td>\n",
       "      <td>3</td>\n",
       "      <td>Mobiles</td>\n",
       "      <td>YouM</td>\n",
       "      <td>YM-98</td>\n",
       "      <td>8100</td>\n",
       "      <td>24300</td>\n",
       "      <td>17.995663</td>\n",
       "      <td>4372.946230</td>\n",
       "      <td>19927.053770</td>\n",
       "    </tr>\n",
       "    <tr>\n",
       "      <th>...</th>\n",
       "      <td>...</td>\n",
       "      <td>...</td>\n",
       "      <td>...</td>\n",
       "      <td>...</td>\n",
       "      <td>...</td>\n",
       "      <td>...</td>\n",
       "      <td>...</td>\n",
       "      <td>...</td>\n",
       "      <td>...</td>\n",
       "      <td>...</td>\n",
       "      <td>...</td>\n",
       "      <td>...</td>\n",
       "      <td>...</td>\n",
       "    </tr>\n",
       "    <tr>\n",
       "      <th>445</th>\n",
       "      <td>15-04-2021</td>\n",
       "      <td>Thursday</td>\n",
       "      <td>L06</td>\n",
       "      <td>C</td>\n",
       "      <td>2</td>\n",
       "      <td>Lifestyle</td>\n",
       "      <td>Jeera</td>\n",
       "      <td>M-Casuals</td>\n",
       "      <td>1300</td>\n",
       "      <td>2600</td>\n",
       "      <td>15.475687</td>\n",
       "      <td>402.367873</td>\n",
       "      <td>2197.632127</td>\n",
       "    </tr>\n",
       "    <tr>\n",
       "      <th>446</th>\n",
       "      <td>15-04-2021</td>\n",
       "      <td>Thursday</td>\n",
       "      <td>L07</td>\n",
       "      <td>C</td>\n",
       "      <td>6</td>\n",
       "      <td>Lifestyle</td>\n",
       "      <td>Viva</td>\n",
       "      <td>W-Western</td>\n",
       "      <td>2600</td>\n",
       "      <td>15600</td>\n",
       "      <td>17.057027</td>\n",
       "      <td>2660.896242</td>\n",
       "      <td>12939.103758</td>\n",
       "    </tr>\n",
       "    <tr>\n",
       "      <th>447</th>\n",
       "      <td>15-04-2021</td>\n",
       "      <td>Thursday</td>\n",
       "      <td>L08</td>\n",
       "      <td>C</td>\n",
       "      <td>2</td>\n",
       "      <td>Lifestyle</td>\n",
       "      <td>Viva</td>\n",
       "      <td>W-Lounge</td>\n",
       "      <td>1600</td>\n",
       "      <td>3200</td>\n",
       "      <td>18.965550</td>\n",
       "      <td>606.897606</td>\n",
       "      <td>2593.102394</td>\n",
       "    </tr>\n",
       "    <tr>\n",
       "      <th>448</th>\n",
       "      <td>15-04-2021</td>\n",
       "      <td>Thursday</td>\n",
       "      <td>L09</td>\n",
       "      <td>C</td>\n",
       "      <td>3</td>\n",
       "      <td>Lifestyle</td>\n",
       "      <td>Jeera</td>\n",
       "      <td>M-Formals</td>\n",
       "      <td>1900</td>\n",
       "      <td>5700</td>\n",
       "      <td>16.793014</td>\n",
       "      <td>957.201826</td>\n",
       "      <td>4742.798174</td>\n",
       "    </tr>\n",
       "    <tr>\n",
       "      <th>449</th>\n",
       "      <td>15-04-2021</td>\n",
       "      <td>Thursday</td>\n",
       "      <td>L10</td>\n",
       "      <td>C</td>\n",
       "      <td>1</td>\n",
       "      <td>Lifestyle</td>\n",
       "      <td>Jeera</td>\n",
       "      <td>M-Shoes</td>\n",
       "      <td>3100</td>\n",
       "      <td>3100</td>\n",
       "      <td>15.333300</td>\n",
       "      <td>475.332295</td>\n",
       "      <td>2624.667705</td>\n",
       "    </tr>\n",
       "  </tbody>\n",
       "</table>\n",
       "<p>450 rows × 13 columns</p>\n",
       "</div>"
      ],
      "text/plain": [
       "           Date       Day  SKU City  Volume         BU  Brand       Model  \\\n",
       "0    01-04-2021  Thursday  M01    C      15    Mobiles  RealU       RU-10   \n",
       "1    01-04-2021  Thursday  M02    C      10    Mobiles  RealU   RU-9 Plus   \n",
       "2    01-04-2021  Thursday  M03    C       7    Mobiles   YouM       YM-99   \n",
       "3    01-04-2021  Thursday  M04    C       6    Mobiles   YouM  YM-99 Plus   \n",
       "4    01-04-2021  Thursday  M05    C       3    Mobiles   YouM      YM-98    \n",
       "..          ...       ...  ...  ...     ...        ...    ...         ...   \n",
       "445  15-04-2021  Thursday  L06    C       2  Lifestyle  Jeera   M-Casuals   \n",
       "446  15-04-2021  Thursday  L07    C       6  Lifestyle   Viva   W-Western   \n",
       "447  15-04-2021  Thursday  L08    C       2  Lifestyle   Viva    W-Lounge   \n",
       "448  15-04-2021  Thursday  L09    C       3  Lifestyle  Jeera   M-Formals   \n",
       "449  15-04-2021  Thursday  L10    C       1  Lifestyle  Jeera     M-Shoes   \n",
       "\n",
       "     Avg Price  Total Sales Value  Discount Rate (%)  Discount Amount  \\\n",
       "0        12100             181500          11.654820     21153.498820   \n",
       "1        10100             101000          11.560498     11676.102961   \n",
       "2        16100             112700           9.456886     10657.910157   \n",
       "3        20100             120600           6.935385      8364.074702   \n",
       "4         8100              24300          17.995663      4372.946230   \n",
       "..         ...                ...                ...              ...   \n",
       "445       1300               2600          15.475687       402.367873   \n",
       "446       2600              15600          17.057027      2660.896242   \n",
       "447       1600               3200          18.965550       606.897606   \n",
       "448       1900               5700          16.793014       957.201826   \n",
       "449       3100               3100          15.333300       475.332295   \n",
       "\n",
       "     Net Sales Value  \n",
       "0      160346.501180  \n",
       "1       89323.897039  \n",
       "2      102042.089843  \n",
       "3      112235.925298  \n",
       "4       19927.053770  \n",
       "..               ...  \n",
       "445      2197.632127  \n",
       "446     12939.103758  \n",
       "447      2593.102394  \n",
       "448      4742.798174  \n",
       "449      2624.667705  \n",
       "\n",
       "[450 rows x 13 columns]"
      ]
     },
     "execution_count": 4,
     "metadata": {},
     "output_type": "execute_result"
    }
   ],
   "source": [
    "data"
   ]
  },
  {
   "cell_type": "code",
   "execution_count": 5,
   "id": "5bf2ca17",
   "metadata": {},
   "outputs": [
    {
     "name": "stdout",
     "output_type": "stream",
     "text": [
      "<class 'pandas.core.frame.DataFrame'>\n",
      "RangeIndex: 450 entries, 0 to 449\n",
      "Data columns (total 13 columns):\n",
      " #   Column             Non-Null Count  Dtype  \n",
      "---  ------             --------------  -----  \n",
      " 0   Date               450 non-null    object \n",
      " 1   Day                450 non-null    object \n",
      " 2   SKU                450 non-null    object \n",
      " 3   City               450 non-null    object \n",
      " 4   Volume             450 non-null    int64  \n",
      " 5   BU                 450 non-null    object \n",
      " 6   Brand              450 non-null    object \n",
      " 7   Model              450 non-null    object \n",
      " 8   Avg Price          450 non-null    int64  \n",
      " 9   Total Sales Value  450 non-null    int64  \n",
      " 10  Discount Rate (%)  450 non-null    float64\n",
      " 11  Discount Amount    450 non-null    float64\n",
      " 12  Net Sales Value    450 non-null    float64\n",
      "dtypes: float64(3), int64(3), object(7)\n",
      "memory usage: 45.8+ KB\n"
     ]
    }
   ],
   "source": [
    "data.info()"
   ]
  },
  {
   "cell_type": "code",
   "execution_count": 6,
   "id": "f5bbc607",
   "metadata": {},
   "outputs": [
    {
     "data": {
      "text/plain": [
       "Date                 0\n",
       "Day                  0\n",
       "SKU                  0\n",
       "City                 0\n",
       "Volume               0\n",
       "BU                   0\n",
       "Brand                0\n",
       "Model                0\n",
       "Avg Price            0\n",
       "Total Sales Value    0\n",
       "Discount Rate (%)    0\n",
       "Discount Amount      0\n",
       "Net Sales Value      0\n",
       "dtype: int64"
      ]
     },
     "execution_count": 6,
     "metadata": {},
     "output_type": "execute_result"
    }
   ],
   "source": [
    "data.isnull().sum()"
   ]
  },
  {
   "cell_type": "code",
   "execution_count": 7,
   "id": "45961fca",
   "metadata": {},
   "outputs": [
    {
     "data": {
      "text/html": [
       "<div>\n",
       "<style scoped>\n",
       "    .dataframe tbody tr th:only-of-type {\n",
       "        vertical-align: middle;\n",
       "    }\n",
       "\n",
       "    .dataframe tbody tr th {\n",
       "        vertical-align: top;\n",
       "    }\n",
       "\n",
       "    .dataframe thead th {\n",
       "        text-align: right;\n",
       "    }\n",
       "</style>\n",
       "<table border=\"1\" class=\"dataframe\">\n",
       "  <thead>\n",
       "    <tr style=\"text-align: right;\">\n",
       "      <th></th>\n",
       "      <th>Volume</th>\n",
       "      <th>Avg Price</th>\n",
       "      <th>Total Sales Value</th>\n",
       "      <th>Discount Rate (%)</th>\n",
       "      <th>Discount Amount</th>\n",
       "      <th>Net Sales Value</th>\n",
       "    </tr>\n",
       "  </thead>\n",
       "  <tbody>\n",
       "    <tr>\n",
       "      <th>count</th>\n",
       "      <td>450.000000</td>\n",
       "      <td>450.000000</td>\n",
       "      <td>450.000000</td>\n",
       "      <td>450.000000</td>\n",
       "      <td>450.000000</td>\n",
       "      <td>450.000000</td>\n",
       "    </tr>\n",
       "    <tr>\n",
       "      <th>mean</th>\n",
       "      <td>5.066667</td>\n",
       "      <td>10453.433333</td>\n",
       "      <td>33812.835556</td>\n",
       "      <td>15.155242</td>\n",
       "      <td>3346.499424</td>\n",
       "      <td>30466.336131</td>\n",
       "    </tr>\n",
       "    <tr>\n",
       "      <th>std</th>\n",
       "      <td>4.231602</td>\n",
       "      <td>18079.904840</td>\n",
       "      <td>50535.074173</td>\n",
       "      <td>4.220602</td>\n",
       "      <td>4509.902963</td>\n",
       "      <td>46358.656624</td>\n",
       "    </tr>\n",
       "    <tr>\n",
       "      <th>min</th>\n",
       "      <td>1.000000</td>\n",
       "      <td>290.000000</td>\n",
       "      <td>400.000000</td>\n",
       "      <td>5.007822</td>\n",
       "      <td>69.177942</td>\n",
       "      <td>326.974801</td>\n",
       "    </tr>\n",
       "    <tr>\n",
       "      <th>25%</th>\n",
       "      <td>3.000000</td>\n",
       "      <td>465.000000</td>\n",
       "      <td>2700.000000</td>\n",
       "      <td>13.965063</td>\n",
       "      <td>460.459304</td>\n",
       "      <td>2202.208645</td>\n",
       "    </tr>\n",
       "    <tr>\n",
       "      <th>50%</th>\n",
       "      <td>4.000000</td>\n",
       "      <td>1450.000000</td>\n",
       "      <td>5700.000000</td>\n",
       "      <td>16.577766</td>\n",
       "      <td>988.933733</td>\n",
       "      <td>4677.788059</td>\n",
       "    </tr>\n",
       "    <tr>\n",
       "      <th>75%</th>\n",
       "      <td>6.000000</td>\n",
       "      <td>10100.000000</td>\n",
       "      <td>53200.000000</td>\n",
       "      <td>18.114718</td>\n",
       "      <td>5316.495427</td>\n",
       "      <td>47847.912852</td>\n",
       "    </tr>\n",
       "    <tr>\n",
       "      <th>max</th>\n",
       "      <td>31.000000</td>\n",
       "      <td>60100.000000</td>\n",
       "      <td>196400.000000</td>\n",
       "      <td>19.992407</td>\n",
       "      <td>25738.022194</td>\n",
       "      <td>179507.479049</td>\n",
       "    </tr>\n",
       "  </tbody>\n",
       "</table>\n",
       "</div>"
      ],
      "text/plain": [
       "           Volume     Avg Price  Total Sales Value  Discount Rate (%)  \\\n",
       "count  450.000000    450.000000         450.000000         450.000000   \n",
       "mean     5.066667  10453.433333       33812.835556          15.155242   \n",
       "std      4.231602  18079.904840       50535.074173           4.220602   \n",
       "min      1.000000    290.000000         400.000000           5.007822   \n",
       "25%      3.000000    465.000000        2700.000000          13.965063   \n",
       "50%      4.000000   1450.000000        5700.000000          16.577766   \n",
       "75%      6.000000  10100.000000       53200.000000          18.114718   \n",
       "max     31.000000  60100.000000      196400.000000          19.992407   \n",
       "\n",
       "       Discount Amount  Net Sales Value  \n",
       "count       450.000000       450.000000  \n",
       "mean       3346.499424     30466.336131  \n",
       "std        4509.902963     46358.656624  \n",
       "min          69.177942       326.974801  \n",
       "25%         460.459304      2202.208645  \n",
       "50%         988.933733      4677.788059  \n",
       "75%        5316.495427     47847.912852  \n",
       "max       25738.022194    179507.479049  "
      ]
     },
     "execution_count": 7,
     "metadata": {},
     "output_type": "execute_result"
    }
   ],
   "source": [
    "data.describe()"
   ]
  },
  {
   "cell_type": "code",
   "execution_count": 4,
   "id": "6ad791bd",
   "metadata": {},
   "outputs": [],
   "source": [
    "num_col = data.select_dtypes(include = 'number').columns"
   ]
  },
  {
   "cell_type": "code",
   "execution_count": 5,
   "id": "2d717a70",
   "metadata": {},
   "outputs": [
    {
     "data": {
      "text/plain": [
       "Index(['Volume', 'Avg Price', 'Total Sales Value', 'Discount Rate (%)',\n",
       "       'Discount Amount', 'Net Sales Value'],\n",
       "      dtype='object')"
      ]
     },
     "execution_count": 5,
     "metadata": {},
     "output_type": "execute_result"
    }
   ],
   "source": [
    "num_col"
   ]
  },
  {
   "cell_type": "code",
   "execution_count": 10,
   "id": "bdad2e46",
   "metadata": {},
   "outputs": [
    {
     "name": "stdout",
     "output_type": "stream",
     "text": [
      "                           MEAN       MEDIAN          MODE  STANDARD DEVIATION\n",
      "Volume                 5.066667     4.000000      3.000000            4.231602\n",
      "Avg Price          10453.433333  1450.000000    400.000000        18079.904840\n",
      "Total Sales Value  33812.835556  5700.000000  24300.000000        50535.074173\n",
      "Discount Rate (%)     15.155242    16.577766      5.007822            4.220602\n",
      "Discount Amount     3346.499424   988.933733     69.177942         4509.902963\n",
      "Net Sales Value    30466.336131  4677.788059    326.974801        46358.656624\n"
     ]
    }
   ],
   "source": [
    "stat = pd.DataFrame({\n",
    "    'MEAN' : data[num_col].mean(),\n",
    "    'MEDIAN': data[num_col].median(),\n",
    "    'MODE': data[num_col].mode().iloc[0],\n",
    "    'STANDARD DEVIATION': data[num_col].std()\n",
    "})\n",
    "print(stat)"
   ]
  },
  {
   "cell_type": "code",
   "execution_count": 11,
   "id": "f37a387f",
   "metadata": {},
   "outputs": [],
   "source": [
    "# DATA VISUALISATION"
   ]
  },
  {
   "cell_type": "code",
   "execution_count": 6,
   "id": "dc2c091e",
   "metadata": {},
   "outputs": [
    {
     "data": {
      "image/png": "[encoded data removed]",
      "text/plain": [
       "<Figure size 640x480 with 1 Axes>"
      ]
     },
     "metadata": {},
     "output_type": "display_data"
    },
    {
     "data": {
      "image/png": "[encoded data removed]",
      "text/plain": [
       "<Figure size 640x480 with 1 Axes>"
      ]
     },
     "metadata": {},
     "output_type": "display_data"
    },
    {
     "data": {
      "image/png": "[encoded data removed]",
      "text/plain": [
       "<Figure size 640x480 with 1 Axes>"
      ]
     },
     "metadata": {},
     "output_type": "display_data"
    },
    {
     "data": {
      "image/png": "[encoded data removed]",
      "text/plain": [
       "<Figure size 640x480 with 1 Axes>"
      ]
     },
     "metadata": {},
     "output_type": "display_data"
    },
    {
     "data": {
      "image/png": "[encoded data removed]",
      "text/plain": [
       "<Figure size 640x480 with 1 Axes>"
      ]
     },
     "metadata": {},
     "output_type": "display_data"
    },
    {
     "data": {
      "image/png": "[encoded data removed]",
      "text/plain": [
       "<Figure size 640x480 with 1 Axes>"
      ]
     },
     "metadata": {},
     "output_type": "display_data"
    }
   ],
   "source": [
    "#histogram\n",
    "for cols in num_col:\n",
    "    data[cols].plot(kind = 'hist', title = f'{cols} visualisation', bins= 20)\n",
    "    plt.xlabel(cols)\n",
    "    plt.ylabel('Frequency')\n",
    "    plt.show()"
   ]
  },
  {
   "cell_type": "code",
   "execution_count": 7,
   "id": "a8fb8e10",
   "metadata": {},
   "outputs": [
    {
     "data": {
      "image/png": "[encoded data removed]",
      "text/plain": [
       "<Figure size 640x480 with 1 Axes>"
      ]
     },
     "metadata": {},
     "output_type": "display_data"
    },
    {
     "data": {
      "image/png": "[encoded data removed]",
      "text/plain": [
       "<Figure size 640x480 with 1 Axes>"
      ]
     },
     "metadata": {},
     "output_type": "display_data"
    },
    {
     "data": {
      "image/png": "[encoded data removed]",
      "text/plain": [
       "<Figure size 640x480 with 1 Axes>"
      ]
     },
     "metadata": {},
     "output_type": "display_data"
    },
    {
     "data": {
      "image/png": "[encoded data removed]",
      "text/plain": [
       "<Figure size 640x480 with 1 Axes>"
      ]
     },
     "metadata": {},
     "output_type": "display_data"
    },
    {
     "data": {
      "image/png": "[encoded data removed]",
      "text/plain": [
       "<Figure size 640x480 with 1 Axes>"
      ]
     },
     "metadata": {},
     "output_type": "display_data"
    },
    {
     "data": {
      "image/png": "[encoded data removed]",
      "text/plain": [
       "<Figure size 640x480 with 1 Axes>"
      ]
     },
     "metadata": {},
     "output_type": "display_data"
    }
   ],
   "source": [
    "#Boxplot\n",
    "for cols in num_col:\n",
    "    data[cols].plot(kind = 'box', title= f'{cols}')\n",
    "    plt.show()"
   ]
  },
  {
   "cell_type": "code",
   "execution_count": 8,
   "id": "049d915e",
   "metadata": {},
   "outputs": [],
   "source": [
    "catg_col = data.select_dtypes(include = 'object').columns"
   ]
  },
  {
   "cell_type": "code",
   "execution_count": 9,
   "id": "109c6f8a",
   "metadata": {},
   "outputs": [
    {
     "data": {
      "text/plain": [
       "Index(['Date', 'Day', 'SKU', 'City', 'BU', 'Brand', 'Model'], dtype='object')"
      ]
     },
     "execution_count": 9,
     "metadata": {},
     "output_type": "execute_result"
    }
   ],
   "source": [
    "catg_col"
   ]
  },
  {
   "cell_type": "code",
   "execution_count": 10,
   "id": "4942a029",
   "metadata": {},
   "outputs": [
    {
     "data": {
      "image/png": "[encoded data removed]",
      "text/plain": [
       "<Figure size 640x480 with 1 Axes>"
      ]
     },
     "metadata": {},
     "output_type": "display_data"
    },
    {
     "data": {
      "image/png": "[encoded data removed]",
      "text/plain": [
       "<Figure size 640x480 with 1 Axes>"
      ]
     },
     "metadata": {},
     "output_type": "display_data"
    },
    {
     "data": {
      "image/png": "[encoded data removed]",
      "text/plain": [
       "<Figure size 640x480 with 1 Axes>"
      ]
     },
     "metadata": {},
     "output_type": "display_data"
    },
    {
     "data": {
      "image/png": "[encoded data removed]",
      "text/plain": [
       "<Figure size 640x480 with 1 Axes>"
      ]
     },
     "metadata": {},
     "output_type": "display_data"
    },
    {
     "data": {
      "image/png": "[encoded data removed]",
      "text/plain": [
       "<Figure size 640x480 with 1 Axes>"
      ]
     },
     "metadata": {},
     "output_type": "display_data"
    },
    {
     "data": {
      "image/png": "[encoded data removed]",
      "text/plain": [
       "<Figure size 640x480 with 1 Axes>"
      ]
     },
     "metadata": {},
     "output_type": "display_data"
    },
    {
     "data": {
      "image/png": "[encoded data removed]",
      "text/plain": [
       "<Figure size 640x480 with 1 Axes>"
      ]
     },
     "metadata": {},
     "output_type": "display_data"
    }
   ],
   "source": [
    "for columns in catg_col:\n",
    "    data[columns].value_counts().plot(kind = 'bar', title = f'{columns}')\n",
    "    plt.show()"
   ]
  },
  {
   "cell_type": "code",
   "execution_count": 17,
   "id": "0edb9b20",
   "metadata": {},
   "outputs": [],
   "source": [
    "#Standardization of Numerical Variables"
   ]
  },
  {
   "cell_type": "code",
   "execution_count": 14,
   "id": "70fd47fd",
   "metadata": {},
   "outputs": [
    {
     "data": {
      "image/png": "[encoded data removed]",
      "text/plain": [
       "<Figure size 1000x600 with 1 Axes>"
      ]
     },
     "metadata": {},
     "output_type": "display_data"
    }
   ],
   "source": [
    "from sklearn.preprocessing import StandardScaler\n",
    "\n",
    "plt.figure(figsize= (10, 6))\n",
    "plt.title('Before Standardization')\n",
    "\n",
    "for cols in num_col:\n",
    "    sns.histplot(data[cols], label= cols)\n",
    "plt.legend()\n",
    "plt.show()"
   ]
  },
  {
   "cell_type": "code",
   "execution_count": 15,
   "id": "e92865f3",
   "metadata": {},
   "outputs": [
    {
     "data": {
      "application/vnd.microsoft.datawrangler.viewer.v0+json": {
       "columns": [
        {
         "name": "index",
         "rawType": "int64",
         "type": "integer"
        },
        {
         "name": "Volume",
         "rawType": "float64",
         "type": "float"
        },
        {
         "name": "Avg Price",
         "rawType": "float64",
         "type": "float"
        },
        {
         "name": "Total Sales Value",
         "rawType": "float64",
         "type": "float"
        },
        {
         "name": "Discount Rate (%)",
         "rawType": "float64",
         "type": "float"
        },
        {
         "name": "Discount Amount",
         "rawType": "float64",
         "type": "float"
        },
        {
         "name": "Net Sales Value",
         "rawType": "float64",
         "type": "float"
        }
       ],
       "ref": "d90e11e6-4aae-482b-8ade-d1d548ccecd3",
       "rows": [
        [
         "0",
         "2.3500291095900065",
         "0.0911730042073702",
         "2.9257211494573445",
         "-0.8302885070382107",
         "3.9528163093750774",
         "2.8047559350809794"
        ],
        [
         "1",
         "1.1671285510715468",
         "-0.019570163443341566",
         "1.3309952068388704",
         "-0.8526614479672847",
         "1.849014085946762",
         "1.2710262049477468"
        ],
        [
         "2",
         "0.4573882159604711",
         "0.3126593395087937",
         "1.5627752506728598",
         "-1.351631376572533",
         "1.6229945846533473",
         "1.5456749685816202"
        ],
        [
         "3",
         "0.22080810425677916",
         "0.5341456748102172",
         "1.7192763059111946",
         "-1.9497229768540176",
         "1.1138065965577932",
         "1.7658103563199805"
        ],
        [
         "4",
         "-0.48893223085429655",
         "-0.13031333109405333",
         "-0.18845174718394864",
         "0.67373867401383",
         "0.22785173323593993",
         "-0.22759529712933368"
        ],
        [
         "5",
         "-0.48893223085429655",
         "-0.13031333109405333",
         "-0.18845174718394864",
         "0.43673774360685036",
         "0.17395486343218655",
         "-0.22235205518609621"
        ],
        [
         "6",
         "-0.48893223085429655",
         "2.139921605745538",
         "2.2482102520964524",
         "-1.4057297606847436",
         "2.2747596890750086",
         "2.229454732059644"
        ],
        [
         "7",
         "-0.7255123425579885",
         "2.416779524872317",
         "1.4736290799674794",
         "-2.2774496108064457",
         "0.5910522533988181",
         "1.5488879915591325"
        ],
        [
         "8",
         "-0.7255123425579885",
         "2.4721511086976733",
         "1.5132496002809819",
         "-1.8371211512825893",
         "1.0698233705912503",
         "1.5455016693740553"
        ],
        [
         "9",
         "-0.48893223085429655",
         "2.7490090278244526",
         "2.901948837269243",
         "-1.2397793962196715",
         "3.230819616115035",
         "2.84907989993288"
        ],
        [
         "10",
         "1.8768688861826226",
         "-0.5566745265492936",
         "-0.5668277161778971",
         "0.880948541672402",
         "-0.5250515090720189",
         "-0.5668142961210654"
        ],
        [
         "11",
         "-0.2523521191506046",
         "-0.5622116849318293",
         "-0.6460687568049021",
         "0.3375484647847882",
         "-0.6986985724501548",
         "-0.6363012203434745"
        ],
        [
         "12",
         "-0.2523521191506046",
         "-0.5572282423875472",
         "-0.6389370631484715",
         "0.7125783559489398",
         "-0.6799751426188247",
         "-0.630348506517941"
        ],
        [
         "13",
         "0.9305484393678549",
         "-0.5530753736006455",
         "-0.5869351302369996",
         "0.7956208212143572",
         "-0.5709078358868184",
         "-0.5842721375608502"
        ],
        [
         "14",
         "-0.015772007446912737",
         "-0.5627654007700827",
         "-0.6411161917657142",
         "0.08571072324874598",
         "-0.692915794566702",
         "-0.6314650475375015"
        ],
        [
         "15",
         "-0.015772007446912737",
         "-0.5539059473580259",
         "-0.6252679836403132",
         "0.7034510871294609",
         "-0.6523531264275547",
         "-0.618135138500489"
        ],
        [
         "16",
         "-0.48893223085429655",
         "-0.5511373681667581",
         "-0.6401256787578766",
         "0.7020142064203443",
         "-0.6825420664578016",
         "-0.6313944859332877"
        ],
        [
         "17",
         "-0.48893223085429655",
         "-0.5566745265492936",
         "-0.6460687568049021",
         "0.5578215200876775",
         "-0.6962248564369671",
         "-0.6365418705260032"
        ],
        [
         "18",
         "-0.9620924542616803",
         "-0.5478150731372367",
         "-0.6587473233052228",
         "0.3718823785992966",
         "-0.722071096092957",
         "-0.6478482435714884"
        ],
        [
         "19",
         "-0.2523521191506046",
         "-0.5179697894553699",
         "-0.5827551653439251",
         "0.37493964421770354",
         "-0.5795452007814831",
         "-0.5788753350720929"
        ],
        [
         "20",
         "1.1671285510715468",
         "-0.5539059473580259",
         "-0.580694898287623",
         "1.0370811784044065",
         "-0.5477965392386726",
         "-0.5797180608349586"
        ],
        [
         "21",
         "0.6939683276641629",
         "-0.5511373681667581",
         "-0.5906000283659986",
         "0.9580568335235222",
         "-0.5724283982464641",
         "-0.588119279024382"
        ],
        [
         "22",
         "0.4573882159604711",
         "-0.5289887346366157",
         "-0.5450364300054708",
         "0.6892048087547581",
         "-0.4902817133977413",
         "-0.5464423542386516"
        ],
        [
         "23",
         "-0.015772007446912737",
         "-0.5068401011064734",
         "-0.5410743779741205",
         "0.8424564225283449",
         "-0.47294101815506706",
         "-0.5438103163561109"
        ],
        [
         "24",
         "-0.015772007446912737",
         "-0.46259820563001397",
         "-0.4619323886478994",
         "1.134596727189251",
         "-0.2783516644719747",
         "-0.47646869290771315"
        ],
        [
         "25",
         "-0.2523521191506046",
         "-0.5068401011064734",
         "-0.5668277161778971",
         "0.8745054042659591",
         "-0.5253650599025588",
         "-0.5667837929977484"
        ],
        [
         "26",
         "-0.015772007446912737",
         "-0.4348570421335107",
         "-0.4123076869552375",
         "0.016004156913409374",
         "-0.3035694229899805",
         "-0.4199200822359785"
        ],
        [
         "27",
         "-0.48893223085429655",
         "-0.49022862595886657",
         "-0.5747518202405976",
         "1.055945317046882",
         "-0.533944952110693",
         "-0.5745870973125907"
        ],
        [
         "28",
         "-0.9620924542616803",
         "-0.4736171508112598",
         "-0.6322015746951761",
         "0.3589487471134068",
         "-0.672557547007389",
         "-0.6237278277817224"
        ],
        [
         "29",
         "-0.48893223085429655",
         "-0.4071712502208327",
         "-0.48560564953521707",
         "0.3372874583229669",
         "-0.4006354689931273",
         "-0.4903785416700669"
        ],
        [
         "30",
         "1.4037086627752386",
         "0.0911730042073702",
         "1.966904557870585",
         "-0.48580295394457046",
         "3.129733909555878",
         "1.8396320708908578"
        ],
        [
         "31",
         "0.6939683276641629",
         "-0.019570163443341566",
         "0.9308279516724958",
         "-0.8756193585456398",
         "1.3132793331160428",
         "0.8869259858026692"
        ],
        [
         "32",
         "0.4573882159604711",
         "0.3126593395087937",
         "1.5627752506728598",
         "-1.2664233487792738",
         "1.7128639444705047",
         "1.5369322197258712"
        ],
        [
         "33",
         "0.22080810425677916",
         "0.5341456748102172",
         "1.7192763059111946",
         "-2.1206225277201085",
         "0.9209229322902264",
         "1.7845746319140081"
        ],
        [
         "34",
         "-0.7255123425579885",
         "-0.13031333109405333",
         "-0.34891485445363357",
         "0.8491470165812436",
         "-0.06912534101920696",
         "-0.37362362783272285"
        ],
        [
         "35",
         "-0.48893223085429655",
         "-0.13031333109405333",
         "-0.18845174718394864",
         "0.6720493952930159",
         "0.22746757088213979",
         "-0.22755792471468714"
        ],
        [
         "36",
         "-0.48893223085429655",
         "2.139921605745538",
         "2.2482102520964524",
         "-2.3489897498282657",
         "0.9744662281541698",
         "2.3559510061037963"
        ],
        [
         "37",
         "-0.9620924542616803",
         "2.416779524872317",
         "0.401894005487238",
         "-1.4033232623121676",
         "0.36666307032161116",
         "0.40243030898187687"
        ],
        [
         "38",
         "-0.48893223085429655",
         "2.4721511086976733",
         "2.6047949349179746",
         "-1.5927845023969482",
         "2.3541446554340886",
         "2.610441071749743"
        ],
        [
         "39",
         "-0.48893223085429655",
         "2.7490090278244526",
         "2.901948837269243",
         "-1.4393449411395756",
         "2.8940844234364667",
         "2.8818384646405066"
        ],
        [
         "40",
         "5.662150673441693",
         "-0.5566745265492936",
         "-0.44004205117468925",
         "1.0751728678923766",
         "-0.23589544780836158",
         "-0.45673653332541897"
        ],
        [
         "41",
         "0.6939683276641629",
         "-0.5622116849318293",
         "-0.6222964446168006",
         "0.25288937024730124",
         "-0.6564391916254294",
         "-0.6144983915629887"
        ],
        [
         "42",
         "0.22080810425677916",
         "-0.5572282423875472",
         "-0.6234850602262056",
         "0.6896987827486559",
         "-0.6490340349742756",
         "-0.6165144835448377"
        ],
        [
         "43",
         "0.9305484393678549",
         "-0.5530753736006455",
         "-0.5869351302369996",
         "0.5088840784756352",
         "-0.5821379980734039",
         "-0.5831796352017992"
        ],
        [
         "44",
         "0.4573882159604711",
         "-0.5627654007700827",
         "-0.6296262408747985",
         "0.5079594045601266",
         "-0.6649165435407495",
         "-0.6216638227301826"
        ],
        [
         "45",
         "-0.48893223085429655",
         "-0.5539059473580259",
         "-0.6430972177813893",
         "0.20018553937055217",
         "-0.6949139083306606",
         "-0.6334301605086011"
        ],
        [
         "46",
         "-0.48893223085429655",
         "-0.5511373681667581",
         "-0.6401256787578766",
         "0.7978985674521584",
         "-0.6811960627501957",
         "-0.6315254290311182"
        ],
        [
         "47",
         "-0.9620924542616803",
         "-0.5566745265492936",
         "-0.661916964930303",
         "0.5074215728601871",
         "-0.7275032428419234",
         "-0.6507749810954758"
        ],
        [
         "48",
         "-0.7255123425579885",
         "-0.5478150731372367",
         "-0.6476535776174421",
         "0.1933943094021594",
         "-0.7031535879823979",
         "-0.6375954198291887"
        ],
        [
         "49",
         "-0.48893223085429655",
         "-0.5179697894553699",
         "-0.6045266412561947",
         "0.7850320849973529",
         "-0.6077203390733256",
         "-0.5998672291705082"
        ]
       ],
       "shape": {
        "columns": 6,
        "rows": 450
       }
      },
      "text/html": [
       "<div>\n",
       "<style scoped>\n",
       "    .dataframe tbody tr th:only-of-type {\n",
       "        vertical-align: middle;\n",
       "    }\n",
       "\n",
       "    .dataframe tbody tr th {\n",
       "        vertical-align: top;\n",
       "    }\n",
       "\n",
       "    .dataframe thead th {\n",
       "        text-align: right;\n",
       "    }\n",
       "</style>\n",
       "<table border=\"1\" class=\"dataframe\">\n",
       "  <thead>\n",
       "    <tr style=\"text-align: right;\">\n",
       "      <th></th>\n",
       "      <th>Volume</th>\n",
       "      <th>Avg Price</th>\n",
       "      <th>Total Sales Value</th>\n",
       "      <th>Discount Rate (%)</th>\n",
       "      <th>Discount Amount</th>\n",
       "      <th>Net Sales Value</th>\n",
       "    </tr>\n",
       "  </thead>\n",
       "  <tbody>\n",
       "    <tr>\n",
       "      <th>0</th>\n",
       "      <td>2.350029</td>\n",
       "      <td>0.091173</td>\n",
       "      <td>2.925721</td>\n",
       "      <td>-0.830289</td>\n",
       "      <td>3.952816</td>\n",
       "      <td>2.804756</td>\n",
       "    </tr>\n",
       "    <tr>\n",
       "      <th>1</th>\n",
       "      <td>1.167129</td>\n",
       "      <td>-0.019570</td>\n",
       "      <td>1.330995</td>\n",
       "      <td>-0.852661</td>\n",
       "      <td>1.849014</td>\n",
       "      <td>1.271026</td>\n",
       "    </tr>\n",
       "    <tr>\n",
       "      <th>2</th>\n",
       "      <td>0.457388</td>\n",
       "      <td>0.312659</td>\n",
       "      <td>1.562775</td>\n",
       "      <td>-1.351631</td>\n",
       "      <td>1.622995</td>\n",
       "      <td>1.545675</td>\n",
       "    </tr>\n",
       "    <tr>\n",
       "      <th>3</th>\n",
       "      <td>0.220808</td>\n",
       "      <td>0.534146</td>\n",
       "      <td>1.719276</td>\n",
       "      <td>-1.949723</td>\n",
       "      <td>1.113807</td>\n",
       "      <td>1.765810</td>\n",
       "    </tr>\n",
       "    <tr>\n",
       "      <th>4</th>\n",
       "      <td>-0.488932</td>\n",
       "      <td>-0.130313</td>\n",
       "      <td>-0.188452</td>\n",
       "      <td>0.673739</td>\n",
       "      <td>0.227852</td>\n",
       "      <td>-0.227595</td>\n",
       "    </tr>\n",
       "    <tr>\n",
       "      <th>...</th>\n",
       "      <td>...</td>\n",
       "      <td>...</td>\n",
       "      <td>...</td>\n",
       "      <td>...</td>\n",
       "      <td>...</td>\n",
       "      <td>...</td>\n",
       "    </tr>\n",
       "    <tr>\n",
       "      <th>445</th>\n",
       "      <td>-0.725512</td>\n",
       "      <td>-0.506840</td>\n",
       "      <td>-0.618334</td>\n",
       "      <td>0.076009</td>\n",
       "      <td>-0.653541</td>\n",
       "      <td>-0.610461</td>\n",
       "    </tr>\n",
       "    <tr>\n",
       "      <th>446</th>\n",
       "      <td>0.220808</td>\n",
       "      <td>-0.434857</td>\n",
       "      <td>-0.360801</td>\n",
       "      <td>0.451097</td>\n",
       "      <td>-0.152191</td>\n",
       "      <td>-0.378500</td>\n",
       "    </tr>\n",
       "    <tr>\n",
       "      <th>447</th>\n",
       "      <td>-0.725512</td>\n",
       "      <td>-0.490229</td>\n",
       "      <td>-0.606448</td>\n",
       "      <td>0.903793</td>\n",
       "      <td>-0.608140</td>\n",
       "      <td>-0.601921</td>\n",
       "    </tr>\n",
       "    <tr>\n",
       "      <th>448</th>\n",
       "      <td>-0.488932</td>\n",
       "      <td>-0.473617</td>\n",
       "      <td>-0.556923</td>\n",
       "      <td>0.388474</td>\n",
       "      <td>-0.530379</td>\n",
       "      <td>-0.555499</td>\n",
       "    </tr>\n",
       "    <tr>\n",
       "      <th>449</th>\n",
       "      <td>-0.962092</td>\n",
       "      <td>-0.407171</td>\n",
       "      <td>-0.608429</td>\n",
       "      <td>0.042235</td>\n",
       "      <td>-0.637345</td>\n",
       "      <td>-0.601239</td>\n",
       "    </tr>\n",
       "  </tbody>\n",
       "</table>\n",
       "<p>450 rows × 6 columns</p>\n",
       "</div>"
      ],
      "text/plain": [
       "       Volume  Avg Price  Total Sales Value  Discount Rate (%)  \\\n",
       "0    2.350029   0.091173           2.925721          -0.830289   \n",
       "1    1.167129  -0.019570           1.330995          -0.852661   \n",
       "2    0.457388   0.312659           1.562775          -1.351631   \n",
       "3    0.220808   0.534146           1.719276          -1.949723   \n",
       "4   -0.488932  -0.130313          -0.188452           0.673739   \n",
       "..        ...        ...                ...                ...   \n",
       "445 -0.725512  -0.506840          -0.618334           0.076009   \n",
       "446  0.220808  -0.434857          -0.360801           0.451097   \n",
       "447 -0.725512  -0.490229          -0.606448           0.903793   \n",
       "448 -0.488932  -0.473617          -0.556923           0.388474   \n",
       "449 -0.962092  -0.407171          -0.608429           0.042235   \n",
       "\n",
       "     Discount Amount  Net Sales Value  \n",
       "0           3.952816         2.804756  \n",
       "1           1.849014         1.271026  \n",
       "2           1.622995         1.545675  \n",
       "3           1.113807         1.765810  \n",
       "4           0.227852        -0.227595  \n",
       "..               ...              ...  \n",
       "445        -0.653541        -0.610461  \n",
       "446        -0.152191        -0.378500  \n",
       "447        -0.608140        -0.601921  \n",
       "448        -0.530379        -0.555499  \n",
       "449        -0.637345        -0.601239  \n",
       "\n",
       "[450 rows x 6 columns]"
      ]
     },
     "execution_count": 15,
     "metadata": {},
     "output_type": "execute_result"
    }
   ],
   "source": [
    "scaler = StandardScaler()# OBJECT of StandardScaler\n",
    "data[num_col] = scaler.fit_transform(data[num_col])\n",
    "data[num_col]"
   ]
  },
  {
   "cell_type": "code",
   "execution_count": 16,
   "id": "2afb6c81",
   "metadata": {},
   "outputs": [
    {
     "data": {
      "application/vnd.microsoft.datawrangler.viewer.v0+json": {
       "columns": [
        {
         "name": "index",
         "rawType": "object",
         "type": "string"
        },
        {
         "name": "Volume",
         "rawType": "float64",
         "type": "float"
        },
        {
         "name": "Avg Price",
         "rawType": "float64",
         "type": "float"
        },
        {
         "name": "Total Sales Value",
         "rawType": "float64",
         "type": "float"
        },
        {
         "name": "Discount Rate (%)",
         "rawType": "float64",
         "type": "float"
        },
        {
         "name": "Discount Amount",
         "rawType": "float64",
         "type": "float"
        },
        {
         "name": "Net Sales Value",
         "rawType": "float64",
         "type": "float"
        }
       ],
       "ref": "8445b8a5-fec4-45ad-ac18-e3c5468d3354",
       "rows": [
        [
         "count",
         "450.0",
         "450.0",
         "450.0",
         "450.0",
         "450.0",
         "450.0"
        ],
        [
         "mean",
         "6.118562446823085e-17",
         "3.157967714489334e-17",
         "1.578983857244667e-17",
         "-3.157967714489334e-17",
         "-6.315935428978668e-17",
         "1.973729821555834e-17"
        ],
        [
         "std",
         "1.0011129663989997",
         "1.0011129663989997",
         "1.0011129663989997",
         "1.0011129663989997",
         "1.0011129663989997",
         "1.0011129663989997"
        ],
        [
         "min",
         "-0.9620924542616803",
         "-0.5627654007700827",
         "-0.661916964930303",
         "-2.4069346207606808",
         "-0.7275032428419234",
         "-0.6508580624292651"
        ],
        [
         "25%",
         "-0.48893223085429655",
         "-0.5530753736006455",
         "-0.6163533665697751",
         "-0.28230663255419747",
         "-0.6406461978482103",
         "-0.610362477489226"
        ],
        [
         "50%",
         "-0.2523521191506046",
         "-0.49853436353267",
         "-0.5569225860995215",
         "0.3374179615538776",
         "-0.523334892497666",
         "-0.5569024587750551"
        ],
        [
         "75%",
         "0.22080810425677916",
         "-0.019570163443341566",
         "0.3840647713461619",
         "0.7019781236860286",
         "0.4373017685139507",
         "0.37535431564121224"
        ],
        [
         "max",
         "6.135310896849077",
         "2.7490090278244526",
         "3.220894025792938",
         "1.147359683039134",
         "4.970493592440852",
         "3.2185363331781285"
        ]
       ],
       "shape": {
        "columns": 6,
        "rows": 8
       }
      },
      "text/html": [
       "<div>\n",
       "<style scoped>\n",
       "    .dataframe tbody tr th:only-of-type {\n",
       "        vertical-align: middle;\n",
       "    }\n",
       "\n",
       "    .dataframe tbody tr th {\n",
       "        vertical-align: top;\n",
       "    }\n",
       "\n",
       "    .dataframe thead th {\n",
       "        text-align: right;\n",
       "    }\n",
       "</style>\n",
       "<table border=\"1\" class=\"dataframe\">\n",
       "  <thead>\n",
       "    <tr style=\"text-align: right;\">\n",
       "      <th></th>\n",
       "      <th>Volume</th>\n",
       "      <th>Avg Price</th>\n",
       "      <th>Total Sales Value</th>\n",
       "      <th>Discount Rate (%)</th>\n",
       "      <th>Discount Amount</th>\n",
       "      <th>Net Sales Value</th>\n",
       "    </tr>\n",
       "  </thead>\n",
       "  <tbody>\n",
       "    <tr>\n",
       "      <th>count</th>\n",
       "      <td>4.500000e+02</td>\n",
       "      <td>4.500000e+02</td>\n",
       "      <td>4.500000e+02</td>\n",
       "      <td>4.500000e+02</td>\n",
       "      <td>4.500000e+02</td>\n",
       "      <td>4.500000e+02</td>\n",
       "    </tr>\n",
       "    <tr>\n",
       "      <th>mean</th>\n",
       "      <td>6.118562e-17</td>\n",
       "      <td>3.157968e-17</td>\n",
       "      <td>1.578984e-17</td>\n",
       "      <td>-3.157968e-17</td>\n",
       "      <td>-6.315935e-17</td>\n",
       "      <td>1.973730e-17</td>\n",
       "    </tr>\n",
       "    <tr>\n",
       "      <th>std</th>\n",
       "      <td>1.001113e+00</td>\n",
       "      <td>1.001113e+00</td>\n",
       "      <td>1.001113e+00</td>\n",
       "      <td>1.001113e+00</td>\n",
       "      <td>1.001113e+00</td>\n",
       "      <td>1.001113e+00</td>\n",
       "    </tr>\n",
       "    <tr>\n",
       "      <th>min</th>\n",
       "      <td>-9.620925e-01</td>\n",
       "      <td>-5.627654e-01</td>\n",
       "      <td>-6.619170e-01</td>\n",
       "      <td>-2.406935e+00</td>\n",
       "      <td>-7.275032e-01</td>\n",
       "      <td>-6.508581e-01</td>\n",
       "    </tr>\n",
       "    <tr>\n",
       "      <th>25%</th>\n",
       "      <td>-4.889322e-01</td>\n",
       "      <td>-5.530754e-01</td>\n",
       "      <td>-6.163534e-01</td>\n",
       "      <td>-2.823066e-01</td>\n",
       "      <td>-6.406462e-01</td>\n",
       "      <td>-6.103625e-01</td>\n",
       "    </tr>\n",
       "    <tr>\n",
       "      <th>50%</th>\n",
       "      <td>-2.523521e-01</td>\n",
       "      <td>-4.985344e-01</td>\n",
       "      <td>-5.569226e-01</td>\n",
       "      <td>3.374180e-01</td>\n",
       "      <td>-5.233349e-01</td>\n",
       "      <td>-5.569025e-01</td>\n",
       "    </tr>\n",
       "    <tr>\n",
       "      <th>75%</th>\n",
       "      <td>2.208081e-01</td>\n",
       "      <td>-1.957016e-02</td>\n",
       "      <td>3.840648e-01</td>\n",
       "      <td>7.019781e-01</td>\n",
       "      <td>4.373018e-01</td>\n",
       "      <td>3.753543e-01</td>\n",
       "    </tr>\n",
       "    <tr>\n",
       "      <th>max</th>\n",
       "      <td>6.135311e+00</td>\n",
       "      <td>2.749009e+00</td>\n",
       "      <td>3.220894e+00</td>\n",
       "      <td>1.147360e+00</td>\n",
       "      <td>4.970494e+00</td>\n",
       "      <td>3.218536e+00</td>\n",
       "    </tr>\n",
       "  </tbody>\n",
       "</table>\n",
       "</div>"
      ],
      "text/plain": [
       "             Volume     Avg Price  Total Sales Value  Discount Rate (%)  \\\n",
       "count  4.500000e+02  4.500000e+02       4.500000e+02       4.500000e+02   \n",
       "mean   6.118562e-17  3.157968e-17       1.578984e-17      -3.157968e-17   \n",
       "std    1.001113e+00  1.001113e+00       1.001113e+00       1.001113e+00   \n",
       "min   -9.620925e-01 -5.627654e-01      -6.619170e-01      -2.406935e+00   \n",
       "25%   -4.889322e-01 -5.530754e-01      -6.163534e-01      -2.823066e-01   \n",
       "50%   -2.523521e-01 -4.985344e-01      -5.569226e-01       3.374180e-01   \n",
       "75%    2.208081e-01 -1.957016e-02       3.840648e-01       7.019781e-01   \n",
       "max    6.135311e+00  2.749009e+00       3.220894e+00       1.147360e+00   \n",
       "\n",
       "       Discount Amount  Net Sales Value  \n",
       "count     4.500000e+02     4.500000e+02  \n",
       "mean     -6.315935e-17     1.973730e-17  \n",
       "std       1.001113e+00     1.001113e+00  \n",
       "min      -7.275032e-01    -6.508581e-01  \n",
       "25%      -6.406462e-01    -6.103625e-01  \n",
       "50%      -5.233349e-01    -5.569025e-01  \n",
       "75%       4.373018e-01     3.753543e-01  \n",
       "max       4.970494e+00     3.218536e+00  "
      ]
     },
     "execution_count": 16,
     "metadata": {},
     "output_type": "execute_result"
    }
   ],
   "source": [
    "data[num_col].describe()"
   ]
  },
  {
   "cell_type": "code",
   "execution_count": 17,
   "id": "277a6eb1",
   "metadata": {},
   "outputs": [
    {
     "data": {
      "image/png": "[encoded data removed]",
      "text/plain": [
       "<Figure size 1000x600 with 1 Axes>"
      ]
     },
     "metadata": {},
     "output_type": "display_data"
    }
   ],
   "source": [
    "plt.figure(figsize=(10,6))\n",
    "plt.title('After Standardization')\n",
    "for columns in num_col:\n",
    "    sns.histplot(data[columns],label=columns)\n",
    "plt.legend()\n",
    "plt.show()"
   ]
  },
  {
   "cell_type": "code",
   "execution_count": 20,
   "id": "ff866482",
   "metadata": {},
   "outputs": [
    {
     "data": {
      "application/vnd.microsoft.datawrangler.viewer.v0+json": {
       "columns": [
        {
         "name": "index",
         "rawType": "int64",
         "type": "integer"
        },
        {
         "name": "Date",
         "rawType": "object",
         "type": "string"
        },
        {
         "name": "Day",
         "rawType": "object",
         "type": "string"
        },
        {
         "name": "SKU",
         "rawType": "object",
         "type": "string"
        },
        {
         "name": "City",
         "rawType": "object",
         "type": "string"
        },
        {
         "name": "Volume",
         "rawType": "float64",
         "type": "float"
        },
        {
         "name": "BU",
         "rawType": "object",
         "type": "string"
        },
        {
         "name": "Brand",
         "rawType": "object",
         "type": "string"
        },
        {
         "name": "Model",
         "rawType": "object",
         "type": "string"
        },
        {
         "name": "Avg Price",
         "rawType": "float64",
         "type": "float"
        },
        {
         "name": "Total Sales Value",
         "rawType": "float64",
         "type": "float"
        },
        {
         "name": "Discount Rate (%)",
         "rawType": "float64",
         "type": "float"
        },
        {
         "name": "Discount Amount",
         "rawType": "float64",
         "type": "float"
        },
        {
         "name": "Net Sales Value",
         "rawType": "float64",
         "type": "float"
        }
       ],
       "ref": "3d8d3a1e-a9ee-4992-b880-71e793a29140",
       "rows": [
        [
         "0",
         "01-04-2021",
         "Thursday",
         "M01",
         "C",
         "2.3500291095900065",
         "Mobiles",
         "RealU",
         "RU-10",
         "0.0911730042073702",
         "2.9257211494573445",
         "-0.8302885070382107",
         "3.9528163093750774",
         "2.8047559350809794"
        ],
        [
         "1",
         "01-04-2021",
         "Thursday",
         "M02",
         "C",
         "1.1671285510715468",
         "Mobiles",
         "RealU",
         "RU-9 Plus",
         "-0.019570163443341566",
         "1.3309952068388704",
         "-0.8526614479672847",
         "1.849014085946762",
         "1.2710262049477468"
        ],
        [
         "2",
         "01-04-2021",
         "Thursday",
         "M03",
         "C",
         "0.4573882159604711",
         "Mobiles",
         "YouM",
         "YM-99",
         "0.3126593395087937",
         "1.5627752506728598",
         "-1.351631376572533",
         "1.6229945846533473",
         "1.5456749685816202"
        ],
        [
         "3",
         "01-04-2021",
         "Thursday",
         "M04",
         "C",
         "0.22080810425677916",
         "Mobiles",
         "YouM",
         "YM-99 Plus",
         "0.5341456748102172",
         "1.7192763059111946",
         "-1.9497229768540176",
         "1.1138065965577932",
         "1.7658103563199805"
        ],
        [
         "4",
         "01-04-2021",
         "Thursday",
         "M05",
         "C",
         "-0.48893223085429655",
         "Mobiles",
         "YouM",
         "YM-98 ",
         "-0.13031333109405333",
         "-0.18845174718394864",
         "0.67373867401383",
         "0.22785173323593993",
         "-0.22759529712933368"
        ]
       ],
       "shape": {
        "columns": 13,
        "rows": 5
       }
      },
      "text/html": [
       "<div>\n",
       "<style scoped>\n",
       "    .dataframe tbody tr th:only-of-type {\n",
       "        vertical-align: middle;\n",
       "    }\n",
       "\n",
       "    .dataframe tbody tr th {\n",
       "        vertical-align: top;\n",
       "    }\n",
       "\n",
       "    .dataframe thead th {\n",
       "        text-align: right;\n",
       "    }\n",
       "</style>\n",
       "<table border=\"1\" class=\"dataframe\">\n",
       "  <thead>\n",
       "    <tr style=\"text-align: right;\">\n",
       "      <th></th>\n",
       "      <th>Date</th>\n",
       "      <th>Day</th>\n",
       "      <th>SKU</th>\n",
       "      <th>City</th>\n",
       "      <th>Volume</th>\n",
       "      <th>BU</th>\n",
       "      <th>Brand</th>\n",
       "      <th>Model</th>\n",
       "      <th>Avg Price</th>\n",
       "      <th>Total Sales Value</th>\n",
       "      <th>Discount Rate (%)</th>\n",
       "      <th>Discount Amount</th>\n",
       "      <th>Net Sales Value</th>\n",
       "    </tr>\n",
       "  </thead>\n",
       "  <tbody>\n",
       "    <tr>\n",
       "      <th>0</th>\n",
       "      <td>01-04-2021</td>\n",
       "      <td>Thursday</td>\n",
       "      <td>M01</td>\n",
       "      <td>C</td>\n",
       "      <td>2.350029</td>\n",
       "      <td>Mobiles</td>\n",
       "      <td>RealU</td>\n",
       "      <td>RU-10</td>\n",
       "      <td>0.091173</td>\n",
       "      <td>2.925721</td>\n",
       "      <td>-0.830289</td>\n",
       "      <td>3.952816</td>\n",
       "      <td>2.804756</td>\n",
       "    </tr>\n",
       "    <tr>\n",
       "      <th>1</th>\n",
       "      <td>01-04-2021</td>\n",
       "      <td>Thursday</td>\n",
       "      <td>M02</td>\n",
       "      <td>C</td>\n",
       "      <td>1.167129</td>\n",
       "      <td>Mobiles</td>\n",
       "      <td>RealU</td>\n",
       "      <td>RU-9 Plus</td>\n",
       "      <td>-0.019570</td>\n",
       "      <td>1.330995</td>\n",
       "      <td>-0.852661</td>\n",
       "      <td>1.849014</td>\n",
       "      <td>1.271026</td>\n",
       "    </tr>\n",
       "    <tr>\n",
       "      <th>2</th>\n",
       "      <td>01-04-2021</td>\n",
       "      <td>Thursday</td>\n",
       "      <td>M03</td>\n",
       "      <td>C</td>\n",
       "      <td>0.457388</td>\n",
       "      <td>Mobiles</td>\n",
       "      <td>YouM</td>\n",
       "      <td>YM-99</td>\n",
       "      <td>0.312659</td>\n",
       "      <td>1.562775</td>\n",
       "      <td>-1.351631</td>\n",
       "      <td>1.622995</td>\n",
       "      <td>1.545675</td>\n",
       "    </tr>\n",
       "    <tr>\n",
       "      <th>3</th>\n",
       "      <td>01-04-2021</td>\n",
       "      <td>Thursday</td>\n",
       "      <td>M04</td>\n",
       "      <td>C</td>\n",
       "      <td>0.220808</td>\n",
       "      <td>Mobiles</td>\n",
       "      <td>YouM</td>\n",
       "      <td>YM-99 Plus</td>\n",
       "      <td>0.534146</td>\n",
       "      <td>1.719276</td>\n",
       "      <td>-1.949723</td>\n",
       "      <td>1.113807</td>\n",
       "      <td>1.765810</td>\n",
       "    </tr>\n",
       "    <tr>\n",
       "      <th>4</th>\n",
       "      <td>01-04-2021</td>\n",
       "      <td>Thursday</td>\n",
       "      <td>M05</td>\n",
       "      <td>C</td>\n",
       "      <td>-0.488932</td>\n",
       "      <td>Mobiles</td>\n",
       "      <td>YouM</td>\n",
       "      <td>YM-98</td>\n",
       "      <td>-0.130313</td>\n",
       "      <td>-0.188452</td>\n",
       "      <td>0.673739</td>\n",
       "      <td>0.227852</td>\n",
       "      <td>-0.227595</td>\n",
       "    </tr>\n",
       "  </tbody>\n",
       "</table>\n",
       "</div>"
      ],
      "text/plain": [
       "         Date       Day  SKU City    Volume       BU  Brand       Model  \\\n",
       "0  01-04-2021  Thursday  M01    C  2.350029  Mobiles  RealU       RU-10   \n",
       "1  01-04-2021  Thursday  M02    C  1.167129  Mobiles  RealU   RU-9 Plus   \n",
       "2  01-04-2021  Thursday  M03    C  0.457388  Mobiles   YouM       YM-99   \n",
       "3  01-04-2021  Thursday  M04    C  0.220808  Mobiles   YouM  YM-99 Plus   \n",
       "4  01-04-2021  Thursday  M05    C -0.488932  Mobiles   YouM      YM-98    \n",
       "\n",
       "   Avg Price  Total Sales Value  Discount Rate (%)  Discount Amount  \\\n",
       "0   0.091173           2.925721          -0.830289         3.952816   \n",
       "1  -0.019570           1.330995          -0.852661         1.849014   \n",
       "2   0.312659           1.562775          -1.351631         1.622995   \n",
       "3   0.534146           1.719276          -1.949723         1.113807   \n",
       "4  -0.130313          -0.188452           0.673739         0.227852   \n",
       "\n",
       "   Net Sales Value  \n",
       "0         2.804756  \n",
       "1         1.271026  \n",
       "2         1.545675  \n",
       "3         1.765810  \n",
       "4        -0.227595  "
      ]
     },
     "execution_count": 20,
     "metadata": {},
     "output_type": "execute_result"
    }
   ],
   "source": [
    "data.head()"
   ]
  },
  {
   "cell_type": "code",
   "execution_count": 18,
   "id": "69ca4344",
   "metadata": {},
   "outputs": [],
   "source": [
    "# Conversion of Categorical Data into Dummy Variables"
   ]
  },
  {
   "cell_type": "code",
   "execution_count": 19,
   "id": "00076225",
   "metadata": {},
   "outputs": [
    {
     "data": {
      "application/vnd.microsoft.datawrangler.viewer.v0+json": {
       "columns": [
        {
         "name": "index",
         "rawType": "int64",
         "type": "integer"
        },
        {
         "name": "Volume",
         "rawType": "float64",
         "type": "float"
        },
        {
         "name": "Avg Price",
         "rawType": "float64",
         "type": "float"
        },
        {
         "name": "Total Sales Value",
         "rawType": "float64",
         "type": "float"
        },
        {
         "name": "Discount Rate (%)",
         "rawType": "float64",
         "type": "float"
        },
        {
         "name": "Discount Amount",
         "rawType": "float64",
         "type": "float"
        },
        {
         "name": "Net Sales Value",
         "rawType": "float64",
         "type": "float"
        },
        {
         "name": "Date_02-04-2021",
         "rawType": "bool",
         "type": "boolean"
        },
        {
         "name": "Date_03-04-2021",
         "rawType": "bool",
         "type": "boolean"
        },
        {
         "name": "Date_04-04-2021",
         "rawType": "bool",
         "type": "boolean"
        },
        {
         "name": "Date_05-04-2021",
         "rawType": "bool",
         "type": "boolean"
        },
        {
         "name": "Date_06-04-2021",
         "rawType": "bool",
         "type": "boolean"
        },
        {
         "name": "Date_07-04-2021",
         "rawType": "bool",
         "type": "boolean"
        },
        {
         "name": "Date_08-04-2021",
         "rawType": "bool",
         "type": "boolean"
        },
        {
         "name": "Date_09-04-2021",
         "rawType": "bool",
         "type": "boolean"
        },
        {
         "name": "Date_10-04-2021",
         "rawType": "bool",
         "type": "boolean"
        },
        {
         "name": "Date_11-04-2021",
         "rawType": "bool",
         "type": "boolean"
        },
        {
         "name": "Date_12-04-2021",
         "rawType": "bool",
         "type": "boolean"
        },
        {
         "name": "Date_13-04-2021",
         "rawType": "bool",
         "type": "boolean"
        },
        {
         "name": "Date_14-04-2021",
         "rawType": "bool",
         "type": "boolean"
        },
        {
         "name": "Date_15-04-2021",
         "rawType": "bool",
         "type": "boolean"
        },
        {
         "name": "Day_Monday",
         "rawType": "bool",
         "type": "boolean"
        },
        {
         "name": "Day_Saturday",
         "rawType": "bool",
         "type": "boolean"
        },
        {
         "name": "Day_Sunday",
         "rawType": "bool",
         "type": "boolean"
        },
        {
         "name": "Day_Thursday",
         "rawType": "bool",
         "type": "boolean"
        },
        {
         "name": "Day_Tuesday",
         "rawType": "bool",
         "type": "boolean"
        },
        {
         "name": "Day_Wednesday",
         "rawType": "bool",
         "type": "boolean"
        },
        {
         "name": "SKU_F02",
         "rawType": "bool",
         "type": "boolean"
        },
        {
         "name": "SKU_F03",
         "rawType": "bool",
         "type": "boolean"
        },
        {
         "name": "SKU_F04",
         "rawType": "bool",
         "type": "boolean"
        },
        {
         "name": "SKU_F05",
         "rawType": "bool",
         "type": "boolean"
        },
        {
         "name": "SKU_F06",
         "rawType": "bool",
         "type": "boolean"
        },
        {
         "name": "SKU_F07",
         "rawType": "bool",
         "type": "boolean"
        },
        {
         "name": "SKU_F08",
         "rawType": "bool",
         "type": "boolean"
        },
        {
         "name": "SKU_F09",
         "rawType": "bool",
         "type": "boolean"
        },
        {
         "name": "SKU_F10",
         "rawType": "bool",
         "type": "boolean"
        },
        {
         "name": "SKU_L01",
         "rawType": "bool",
         "type": "boolean"
        },
        {
         "name": "SKU_L02",
         "rawType": "bool",
         "type": "boolean"
        },
        {
         "name": "SKU_L03",
         "rawType": "bool",
         "type": "boolean"
        },
        {
         "name": "SKU_L04",
         "rawType": "bool",
         "type": "boolean"
        },
        {
         "name": "SKU_L05",
         "rawType": "bool",
         "type": "boolean"
        },
        {
         "name": "SKU_L06",
         "rawType": "bool",
         "type": "boolean"
        },
        {
         "name": "SKU_L07",
         "rawType": "bool",
         "type": "boolean"
        },
        {
         "name": "SKU_L08",
         "rawType": "bool",
         "type": "boolean"
        },
        {
         "name": "SKU_L09",
         "rawType": "bool",
         "type": "boolean"
        },
        {
         "name": "SKU_L10",
         "rawType": "bool",
         "type": "boolean"
        },
        {
         "name": "SKU_M01",
         "rawType": "bool",
         "type": "boolean"
        },
        {
         "name": "SKU_M02",
         "rawType": "bool",
         "type": "boolean"
        },
        {
         "name": "SKU_M03",
         "rawType": "bool",
         "type": "boolean"
        },
        {
         "name": "SKU_M04",
         "rawType": "bool",
         "type": "boolean"
        },
        {
         "name": "SKU_M05",
         "rawType": "bool",
         "type": "boolean"
        },
        {
         "name": "SKU_M06",
         "rawType": "bool",
         "type": "boolean"
        },
        {
         "name": "SKU_M07",
         "rawType": "bool",
         "type": "boolean"
        },
        {
         "name": "SKU_M08",
         "rawType": "bool",
         "type": "boolean"
        },
        {
         "name": "SKU_M09",
         "rawType": "bool",
         "type": "boolean"
        },
        {
         "name": "SKU_M10",
         "rawType": "bool",
         "type": "boolean"
        },
        {
         "name": "BU_Lifestyle",
         "rawType": "bool",
         "type": "boolean"
        },
        {
         "name": "BU_Mobiles",
         "rawType": "bool",
         "type": "boolean"
        },
        {
         "name": "Brand_Gear",
         "rawType": "bool",
         "type": "boolean"
        },
        {
         "name": "Brand_Jeera",
         "rawType": "bool",
         "type": "boolean"
        },
        {
         "name": "Brand_Orange",
         "rawType": "bool",
         "type": "boolean"
        },
        {
         "name": "Brand_RealU",
         "rawType": "bool",
         "type": "boolean"
        },
        {
         "name": "Brand_Sumsang",
         "rawType": "bool",
         "type": "boolean"
        },
        {
         "name": "Brand_Vedic",
         "rawType": "bool",
         "type": "boolean"
        },
        {
         "name": "Brand_Viva",
         "rawType": "bool",
         "type": "boolean"
        },
        {
         "name": "Brand_YouM",
         "rawType": "bool",
         "type": "boolean"
        },
        {
         "name": "Model_Babaji Oil ",
         "rawType": "bool",
         "type": "boolean"
        },
        {
         "name": "Model_Babaji Shampoo",
         "rawType": "bool",
         "type": "boolean"
        },
        {
         "name": "Model_Gear BB Cream",
         "rawType": "bool",
         "type": "boolean"
        },
        {
         "name": "Model_Gear Cream",
         "rawType": "bool",
         "type": "boolean"
        },
        {
         "name": "Model_Gear Oil",
         "rawType": "bool",
         "type": "boolean"
        },
        {
         "name": "Model_Gear Shampoo",
         "rawType": "bool",
         "type": "boolean"
        },
        {
         "name": "Model_M- Inners",
         "rawType": "bool",
         "type": "boolean"
        },
        {
         "name": "Model_M- T Shirts",
         "rawType": "bool",
         "type": "boolean"
        },
        {
         "name": "Model_M-Casuals",
         "rawType": "bool",
         "type": "boolean"
        },
        {
         "name": "Model_M-Formals",
         "rawType": "bool",
         "type": "boolean"
        },
        {
         "name": "Model_M-Jeans",
         "rawType": "bool",
         "type": "boolean"
        },
        {
         "name": "Model_M-Shoes",
         "rawType": "bool",
         "type": "boolean"
        },
        {
         "name": "Model_O-10",
         "rawType": "bool",
         "type": "boolean"
        },
        {
         "name": "Model_O-11",
         "rawType": "bool",
         "type": "boolean"
        },
        {
         "name": "Model_RU-10",
         "rawType": "bool",
         "type": "boolean"
        },
        {
         "name": "Model_RU-9",
         "rawType": "bool",
         "type": "boolean"
        },
        {
         "name": "Model_RU-9 Plus",
         "rawType": "bool",
         "type": "boolean"
        },
        {
         "name": "Model_S-20",
         "rawType": "bool",
         "type": "boolean"
        },
        {
         "name": "Model_S-21",
         "rawType": "bool",
         "type": "boolean"
        },
        {
         "name": "Model_Vedic Cream",
         "rawType": "bool",
         "type": "boolean"
        },
        {
         "name": "Model_Vedic Oil",
         "rawType": "bool",
         "type": "boolean"
        },
        {
         "name": "Model_Vedic Shampoo",
         "rawType": "bool",
         "type": "boolean"
        },
        {
         "name": "Model_W-Casuals",
         "rawType": "bool",
         "type": "boolean"
        },
        {
         "name": "Model_W-Inners",
         "rawType": "bool",
         "type": "boolean"
        },
        {
         "name": "Model_W-Lounge",
         "rawType": "bool",
         "type": "boolean"
        },
        {
         "name": "Model_W-Western",
         "rawType": "bool",
         "type": "boolean"
        },
        {
         "name": "Model_YM-98 ",
         "rawType": "bool",
         "type": "boolean"
        },
        {
         "name": "Model_YM-99",
         "rawType": "bool",
         "type": "boolean"
        },
        {
         "name": "Model_YM-99 Plus",
         "rawType": "bool",
         "type": "boolean"
        }
       ],
       "ref": "e117c14c-a5f0-480f-81c1-4e3f49c345cf",
       "rows": [
        [
         "0",
         "2.3500291095900065",
         "0.0911730042073702",
         "2.9257211494573445",
         "-0.8302885070382107",
         "3.9528163093750774",
         "2.8047559350809794",
         "False",
         "False",
         "False",
         "False",
         "False",
         "False",
         "False",
         "False",
         "False",
         "False",
         "False",
         "False",
         "False",
         "False",
         "False",
         "False",
         "False",
         "True",
         "False",
         "False",
         "False",
         "False",
         "False",
         "False",
         "False",
         "False",
         "False",
         "False",
         "False",
         "False",
         "False",
         "False",
         "False",
         "False",
         "False",
         "False",
         "False",
         "False",
         "False",
         "True",
         "False",
         "False",
         "False",
         "False",
         "False",
         "False",
         "False",
         "False",
         "False",
         "False",
         "True",
         "False",
         "False",
         "False",
         "True",
         "False",
         "False",
         "False",
         "False",
         "False",
         "False",
         "False",
         "False",
         "False",
         "False",
         "False",
         "False",
         "False",
         "False",
         "False",
         "False",
         "False",
         "False",
         "True",
         "False",
         "False",
         "False",
         "False",
         "False",
         "False",
         "False",
         "False",
         "False",
         "False",
         "False",
         "False",
         "False",
         "False"
        ],
        [
         "1",
         "1.1671285510715468",
         "-0.019570163443341566",
         "1.3309952068388704",
         "-0.8526614479672847",
         "1.849014085946762",
         "1.2710262049477468",
         "False",
         "False",
         "False",
         "False",
         "False",
         "False",
         "False",
         "False",
         "False",
         "False",
         "False",
         "False",
         "False",
         "False",
         "False",
         "False",
         "False",
         "True",
         "False",
         "False",
         "False",
         "False",
         "False",
         "False",
         "False",
         "False",
         "False",
         "False",
         "False",
         "False",
         "False",
         "False",
         "False",
         "False",
         "False",
         "False",
         "False",
         "False",
         "False",
         "False",
         "True",
         "False",
         "False",
         "False",
         "False",
         "False",
         "False",
         "False",
         "False",
         "False",
         "True",
         "False",
         "False",
         "False",
         "True",
         "False",
         "False",
         "False",
         "False",
         "False",
         "False",
         "False",
         "False",
         "False",
         "False",
         "False",
         "False",
         "False",
         "False",
         "False",
         "False",
         "False",
         "False",
         "False",
         "False",
         "True",
         "False",
         "False",
         "False",
         "False",
         "False",
         "False",
         "False",
         "False",
         "False",
         "False",
         "False",
         "False"
        ],
        [
         "2",
         "0.4573882159604711",
         "0.3126593395087937",
         "1.5627752506728598",
         "-1.351631376572533",
         "1.6229945846533473",
         "1.5456749685816202",
         "False",
         "False",
         "False",
         "False",
         "False",
         "False",
         "False",
         "False",
         "False",
         "False",
         "False",
         "False",
         "False",
         "False",
         "False",
         "False",
         "False",
         "True",
         "False",
         "False",
         "False",
         "False",
         "False",
         "False",
         "False",
         "False",
         "False",
         "False",
         "False",
         "False",
         "False",
         "False",
         "False",
         "False",
         "False",
         "False",
         "False",
         "False",
         "False",
         "False",
         "False",
         "True",
         "False",
         "False",
         "False",
         "False",
         "False",
         "False",
         "False",
         "False",
         "True",
         "False",
         "False",
         "False",
         "False",
         "False",
         "False",
         "False",
         "True",
         "False",
         "False",
         "False",
         "False",
         "False",
         "False",
         "False",
         "False",
         "False",
         "False",
         "False",
         "False",
         "False",
         "False",
         "False",
         "False",
         "False",
         "False",
         "False",
         "False",
         "False",
         "False",
         "False",
         "False",
         "False",
         "False",
         "False",
         "True",
         "False"
        ],
        [
         "3",
         "0.22080810425677916",
         "0.5341456748102172",
         "1.7192763059111946",
         "-1.9497229768540176",
         "1.1138065965577932",
         "1.7658103563199805",
         "False",
         "False",
         "False",
         "False",
         "False",
         "False",
         "False",
         "False",
         "False",
         "False",
         "False",
         "False",
         "False",
         "False",
         "False",
         "False",
         "False",
         "True",
         "False",
         "False",
         "False",
         "False",
         "False",
         "False",
         "False",
         "False",
         "False",
         "False",
         "False",
         "False",
         "False",
         "False",
         "False",
         "False",
         "False",
         "False",
         "False",
         "False",
         "False",
         "False",
         "False",
         "False",
         "True",
         "False",
         "False",
         "False",
         "False",
         "False",
         "False",
         "False",
         "True",
         "False",
         "False",
         "False",
         "False",
         "False",
         "False",
         "False",
         "True",
         "False",
         "False",
         "False",
         "False",
         "False",
         "False",
         "False",
         "False",
         "False",
         "False",
         "False",
         "False",
         "False",
         "False",
         "False",
         "False",
         "False",
         "False",
         "False",
         "False",
         "False",
         "False",
         "False",
         "False",
         "False",
         "False",
         "False",
         "False",
         "True"
        ],
        [
         "4",
         "-0.48893223085429655",
         "-0.13031333109405333",
         "-0.18845174718394864",
         "0.67373867401383",
         "0.22785173323593993",
         "-0.22759529712933368",
         "False",
         "False",
         "False",
         "False",
         "False",
         "False",
         "False",
         "False",
         "False",
         "False",
         "False",
         "False",
         "False",
         "False",
         "False",
         "False",
         "False",
         "True",
         "False",
         "False",
         "False",
         "False",
         "False",
         "False",
         "False",
         "False",
         "False",
         "False",
         "False",
         "False",
         "False",
         "False",
         "False",
         "False",
         "False",
         "False",
         "False",
         "False",
         "False",
         "False",
         "False",
         "False",
         "False",
         "True",
         "False",
         "False",
         "False",
         "False",
         "False",
         "False",
         "True",
         "False",
         "False",
         "False",
         "False",
         "False",
         "False",
         "False",
         "True",
         "False",
         "False",
         "False",
         "False",
         "False",
         "False",
         "False",
         "False",
         "False",
         "False",
         "False",
         "False",
         "False",
         "False",
         "False",
         "False",
         "False",
         "False",
         "False",
         "False",
         "False",
         "False",
         "False",
         "False",
         "False",
         "False",
         "True",
         "False",
         "False"
        ]
       ],
       "shape": {
        "columns": 94,
        "rows": 5
       }
      },
      "text/html": [
       "<div>\n",
       "<style scoped>\n",
       "    .dataframe tbody tr th:only-of-type {\n",
       "        vertical-align: middle;\n",
       "    }\n",
       "\n",
       "    .dataframe tbody tr th {\n",
       "        vertical-align: top;\n",
       "    }\n",
       "\n",
       "    .dataframe thead th {\n",
       "        text-align: right;\n",
       "    }\n",
       "</style>\n",
       "<table border=\"1\" class=\"dataframe\">\n",
       "  <thead>\n",
       "    <tr style=\"text-align: right;\">\n",
       "      <th></th>\n",
       "      <th>Volume</th>\n",
       "      <th>Avg Price</th>\n",
       "      <th>Total Sales Value</th>\n",
       "      <th>Discount Rate (%)</th>\n",
       "      <th>Discount Amount</th>\n",
       "      <th>Net Sales Value</th>\n",
       "      <th>Date_02-04-2021</th>\n",
       "      <th>Date_03-04-2021</th>\n",
       "      <th>Date_04-04-2021</th>\n",
       "      <th>Date_05-04-2021</th>\n",
       "      <th>...</th>\n",
       "      <th>Model_Vedic Cream</th>\n",
       "      <th>Model_Vedic Oil</th>\n",
       "      <th>Model_Vedic Shampoo</th>\n",
       "      <th>Model_W-Casuals</th>\n",
       "      <th>Model_W-Inners</th>\n",
       "      <th>Model_W-Lounge</th>\n",
       "      <th>Model_W-Western</th>\n",
       "      <th>Model_YM-98</th>\n",
       "      <th>Model_YM-99</th>\n",
       "      <th>Model_YM-99 Plus</th>\n",
       "    </tr>\n",
       "  </thead>\n",
       "  <tbody>\n",
       "    <tr>\n",
       "      <th>0</th>\n",
       "      <td>2.350029</td>\n",
       "      <td>0.091173</td>\n",
       "      <td>2.925721</td>\n",
       "      <td>-0.830289</td>\n",
       "      <td>3.952816</td>\n",
       "      <td>2.804756</td>\n",
       "      <td>False</td>\n",
       "      <td>False</td>\n",
       "      <td>False</td>\n",
       "      <td>False</td>\n",
       "      <td>...</td>\n",
       "      <td>False</td>\n",
       "      <td>False</td>\n",
       "      <td>False</td>\n",
       "      <td>False</td>\n",
       "      <td>False</td>\n",
       "      <td>False</td>\n",
       "      <td>False</td>\n",
       "      <td>False</td>\n",
       "      <td>False</td>\n",
       "      <td>False</td>\n",
       "    </tr>\n",
       "    <tr>\n",
       "      <th>1</th>\n",
       "      <td>1.167129</td>\n",
       "      <td>-0.019570</td>\n",
       "      <td>1.330995</td>\n",
       "      <td>-0.852661</td>\n",
       "      <td>1.849014</td>\n",
       "      <td>1.271026</td>\n",
       "      <td>False</td>\n",
       "      <td>False</td>\n",
       "      <td>False</td>\n",
       "      <td>False</td>\n",
       "      <td>...</td>\n",
       "      <td>False</td>\n",
       "      <td>False</td>\n",
       "      <td>False</td>\n",
       "      <td>False</td>\n",
       "      <td>False</td>\n",
       "      <td>False</td>\n",
       "      <td>False</td>\n",
       "      <td>False</td>\n",
       "      <td>False</td>\n",
       "      <td>False</td>\n",
       "    </tr>\n",
       "    <tr>\n",
       "      <th>2</th>\n",
       "      <td>0.457388</td>\n",
       "      <td>0.312659</td>\n",
       "      <td>1.562775</td>\n",
       "      <td>-1.351631</td>\n",
       "      <td>1.622995</td>\n",
       "      <td>1.545675</td>\n",
       "      <td>False</td>\n",
       "      <td>False</td>\n",
       "      <td>False</td>\n",
       "      <td>False</td>\n",
       "      <td>...</td>\n",
       "      <td>False</td>\n",
       "      <td>False</td>\n",
       "      <td>False</td>\n",
       "      <td>False</td>\n",
       "      <td>False</td>\n",
       "      <td>False</td>\n",
       "      <td>False</td>\n",
       "      <td>False</td>\n",
       "      <td>True</td>\n",
       "      <td>False</td>\n",
       "    </tr>\n",
       "    <tr>\n",
       "      <th>3</th>\n",
       "      <td>0.220808</td>\n",
       "      <td>0.534146</td>\n",
       "      <td>1.719276</td>\n",
       "      <td>-1.949723</td>\n",
       "      <td>1.113807</td>\n",
       "      <td>1.765810</td>\n",
       "      <td>False</td>\n",
       "      <td>False</td>\n",
       "      <td>False</td>\n",
       "      <td>False</td>\n",
       "      <td>...</td>\n",
       "      <td>False</td>\n",
       "      <td>False</td>\n",
       "      <td>False</td>\n",
       "      <td>False</td>\n",
       "      <td>False</td>\n",
       "      <td>False</td>\n",
       "      <td>False</td>\n",
       "      <td>False</td>\n",
       "      <td>False</td>\n",
       "      <td>True</td>\n",
       "    </tr>\n",
       "    <tr>\n",
       "      <th>4</th>\n",
       "      <td>-0.488932</td>\n",
       "      <td>-0.130313</td>\n",
       "      <td>-0.188452</td>\n",
       "      <td>0.673739</td>\n",
       "      <td>0.227852</td>\n",
       "      <td>-0.227595</td>\n",
       "      <td>False</td>\n",
       "      <td>False</td>\n",
       "      <td>False</td>\n",
       "      <td>False</td>\n",
       "      <td>...</td>\n",
       "      <td>False</td>\n",
       "      <td>False</td>\n",
       "      <td>False</td>\n",
       "      <td>False</td>\n",
       "      <td>False</td>\n",
       "      <td>False</td>\n",
       "      <td>False</td>\n",
       "      <td>True</td>\n",
       "      <td>False</td>\n",
       "      <td>False</td>\n",
       "    </tr>\n",
       "  </tbody>\n",
       "</table>\n",
       "<p>5 rows × 94 columns</p>\n",
       "</div>"
      ],
      "text/plain": [
       "     Volume  Avg Price  Total Sales Value  Discount Rate (%)  Discount Amount  \\\n",
       "0  2.350029   0.091173           2.925721          -0.830289         3.952816   \n",
       "1  1.167129  -0.019570           1.330995          -0.852661         1.849014   \n",
       "2  0.457388   0.312659           1.562775          -1.351631         1.622995   \n",
       "3  0.220808   0.534146           1.719276          -1.949723         1.113807   \n",
       "4 -0.488932  -0.130313          -0.188452           0.673739         0.227852   \n",
       "\n",
       "   Net Sales Value  Date_02-04-2021  Date_03-04-2021  Date_04-04-2021  \\\n",
       "0         2.804756            False            False            False   \n",
       "1         1.271026            False            False            False   \n",
       "2         1.545675            False            False            False   \n",
       "3         1.765810            False            False            False   \n",
       "4        -0.227595            False            False            False   \n",
       "\n",
       "   Date_05-04-2021  ...  Model_Vedic Cream  Model_Vedic Oil  \\\n",
       "0            False  ...              False            False   \n",
       "1            False  ...              False            False   \n",
       "2            False  ...              False            False   \n",
       "3            False  ...              False            False   \n",
       "4            False  ...              False            False   \n",
       "\n",
       "   Model_Vedic Shampoo  Model_W-Casuals  Model_W-Inners  Model_W-Lounge  \\\n",
       "0                False            False           False           False   \n",
       "1                False            False           False           False   \n",
       "2                False            False           False           False   \n",
       "3                False            False           False           False   \n",
       "4                False            False           False           False   \n",
       "\n",
       "   Model_W-Western  Model_YM-98   Model_YM-99  Model_YM-99 Plus  \n",
       "0            False         False        False             False  \n",
       "1            False         False        False             False  \n",
       "2            False         False         True             False  \n",
       "3            False         False        False              True  \n",
       "4            False          True        False             False  \n",
       "\n",
       "[5 rows x 94 columns]"
      ]
     },
     "execution_count": 19,
     "metadata": {},
     "output_type": "execute_result"
    }
   ],
   "source": [
    "data_encode = pd.get_dummies(data, columns=catg_col, drop_first=True)\n",
    "data_encode.head()"
   ]
  },
  {
   "cell_type": "code",
   "execution_count": null,
   "id": "4e54fe1e",
   "metadata": {},
   "outputs": [],
   "source": []
  },
  {
   "cell_type": "markdown",
   "id": "0719260e",
   "metadata": {},
   "source": [
    "## Conclusion\n",
    "## Descriptive Analytics: Provided insights into mean, median, mode, and spread of numerical features.\n",
    "## Data Visualization: Histograms, boxplots, and bar charts highlighted distributions, skewness, and outliers.\n",
    "## Standardization: Ensured numerical features are on the same scale for ML.\n",
    "## One-Hot Encoding: Prepared categorical variables for algorithmic models.\n",
    "## Key Takeaway: Preprocessing is critical to ensure clean, interpretable, and ML-ready datasets."
   ]
  },
  {
   "cell_type": "markdown",
   "id": "fa334430",
   "metadata": {},
   "source": []
  }
 ],
 "metadata": {
  "kernelspec": {
   "display_name": "ai",
   "language": "python",
   "name": "python3"
  },
  "language_info": {
   "codemirror_mode": {
    "name": "ipython",
    "version": 3
   },
   "file_extension": ".py",
   "mimetype": "text/x-python",
   "name": "python",
   "nbconvert_exporter": "python",
   "pygments_lexer": "ipython3",
   "version": "3.10.18"
  }
 },
 "nbformat": 4,
 "nbformat_minor": 5
}
