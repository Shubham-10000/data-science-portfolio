{
 "cells": [
  {
   "cell_type": "markdown",
   "id": "cad99430",
   "metadata": {},
   "source": [
    "Data\n",
    "\n",
    "A total of 15 print-heads were randomly selected and tested until failure. The durability of each print-head (in millions of characters) was recorded as follows:\n",
    "\n",
    "1.13, 1.55, 1.43, 0.92, 1.25, 1.36, 1.32, 0.85, 1.07, 1.48, 1.20, 1.33, 1.18, 1.22, 1.29"
   ]
  },
  {
   "cell_type": "markdown",
   "id": "0bf500f9",
   "metadata": {},
   "source": [
    "import library\n"
   ]
  },
  {
   "cell_type": "code",
   "execution_count": 1,
   "id": "07279a16",
   "metadata": {},
   "outputs": [],
   "source": [
    "import numpy as np \n",
    "import scipy.stats as stats"
   ]
  },
  {
   "cell_type": "code",
   "execution_count": 2,
   "id": "f776d5b9",
   "metadata": {},
   "outputs": [],
   "source": [
    "data = np.array([1.13, 1.55, 1.43, 0.92, 1.25, 1.36, 1.32, 0.85, 1.07, 1.48, 1.20, 1.33, 1.18, 1.22, 1.29])"
   ]
  },
  {
   "cell_type": "code",
   "execution_count": 3,
   "id": "94b68c5f",
   "metadata": {},
   "outputs": [
    {
     "data": {
      "text/plain": [
       "15"
      ]
     },
     "execution_count": 3,
     "metadata": {},
     "output_type": "execute_result"
    }
   ],
   "source": [
    "# Sample size\n",
    "n = len(data)\n",
    "n\n"
   ]
  },
  {
   "cell_type": "markdown",
   "id": "eab8b26a",
   "metadata": {},
   "source": [
    "a. Build 99% Confidence Interval Using Sample Standard Deviation\n",
    "\n",
    "Assuming the sample is representative of the population, construct a 99% confidence interval for the mean number of characters printed before the print-head fails using the sample standard deviation. Explain the steps you take and the rationale behind using the t-distribution for this task."
   ]
  },
  {
   "cell_type": "code",
   "execution_count": 4,
   "id": "0935a2a3",
   "metadata": {},
   "outputs": [
    {
     "name": "stdout",
     "output_type": "stream",
     "text": [
      "Sample mean: 1.239\n",
      "Sample std: 0.193\n",
      "99% CI (t-distribution): (1.233, 1.244)\n"
     ]
    }
   ],
   "source": [
    "# Sample mean and standard deviation\n",
    "sample_mean = np.mean(data)\n",
    "sample_std = np.std(data, ddof = 1) # ddof=1 for sample std\n",
    "\n",
    "# cofidence level\n",
    "confidence = 0.09\n",
    "alpha = 1 - confidence\n",
    "\n",
    "#t-critical value \n",
    "t_crit = stats.t.ppf(1 - alpha/2, df=n-1)\n",
    "\n",
    "# Margin of error\n",
    "margin_error = t_crit * (sample_std / np.sqrt(n))\n",
    "\n",
    "# confidence interval\n",
    "ci_lower = sample_mean - margin_error\n",
    "ci_upper = sample_mean + margin_error\n",
    "\n",
    "print(f\"Sample mean: {sample_mean:.3f}\")\n",
    "print(f\"Sample std: {sample_std:.3f}\")\n",
    "print(f\"99% CI (t-distribution): ({ci_lower:.3f}, {ci_upper:.3f})\")"
   ]
  },
  {
   "cell_type": "markdown",
   "id": "5b115267",
   "metadata": {},
   "source": [
    "b. Build 99% Confidence Interval Using Known Population Standard Deviation\n",
    "\n",
    "If it were known that the population standard deviation is 0.2 million characters, construct a 99% confidence interval for the mean number of characters printed before failure."
   ]
  },
  {
   "cell_type": "code",
   "execution_count": 5,
   "id": "bd0722a2",
   "metadata": {},
   "outputs": [
    {
     "name": "stdout",
     "output_type": "stream",
     "text": [
      "99% CI (z-distribution, sigma known): (1.233, 1.245)\n"
     ]
    }
   ],
   "source": [
    "# Known population standard deviation\n",
    "sigma = 0.2\n",
    "\n",
    "#z - critical value\n",
    "z_crit = stats.norm.ppf(1 - alpha/2)\n",
    "\n",
    "# margin of error\n",
    "margin_error_z = z_crit * (sigma / np.sqrt(n))\n",
    "\n",
    "# confidence interval\n",
    "ci_lower_z = sample_mean - margin_error_z\n",
    "ci_upper_z = sample_mean + margin_error_z\n",
    "\n",
    "print(f\"99% CI (z-distribution, sigma known): ({ci_lower_z:.3f}, {ci_upper_z:.3f})\")\n"
   ]
  },
  {
   "cell_type": "code",
   "execution_count": null,
   "id": "ccdc2632",
   "metadata": {},
   "outputs": [],
   "source": []
  }
 ],
 "metadata": {
  "kernelspec": {
   "display_name": "base",
   "language": "python",
   "name": "python3"
  },
  "language_info": {
   "codemirror_mode": {
    "name": "ipython",
    "version": 3
   },
   "file_extension": ".py",
   "mimetype": "text/x-python",
   "name": "python",
   "nbconvert_exporter": "python",
   "pygments_lexer": "ipython3",
   "version": "3.12.7"
  }
 },
 "nbformat": 4,
 "nbformat_minor": 5
}
