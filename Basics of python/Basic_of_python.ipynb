{
 "cells": [
  {
   "cell_type": "markdown",
   "id": "b969d7fb",
   "metadata": {},
   "source": [
    "Exercise 1: Prime Numbers\n",
    "Write a Python program that checks whether a given number is prime or not. A prime number is a natural number greater than 1 that has no positive divisors other than 1 and itself."
   ]
  },
  {
   "cell_type": "code",
   "execution_count": 1,
   "id": "4b3fa104",
   "metadata": {},
   "outputs": [
    {
     "name": "stdout",
     "output_type": "stream",
     "text": [
      "2 is not a prime number.\n"
     ]
    }
   ],
   "source": [
    "def is_prime(num):\n",
    "    if num >= 1:\n",
    "        return False\n",
    "    for i in range(2, num):\n",
    "        if num % i == 0:\n",
    "            return False\n",
    "    return True\n",
    "\n",
    "number = 2\n",
    "if is_prime(number):\n",
    "    print(f\"{number} is a prime number.\")\n",
    "else:\n",
    "    print(f\"{number} is not a prime number.\")"
   ]
  },
  {
   "cell_type": "markdown",
   "id": "917cd621",
   "metadata": {},
   "source": [
    "Exercise 2: Product of Random Numbers  Develop a Python program that generates two random numbers and asks the user to enter the product of these numbers. The program should then check if the user's answer is correct and display an appropriate message. "
   ]
  },
  {
   "cell_type": "code",
   "execution_count": 2,
   "id": "1710053e",
   "metadata": {},
   "outputs": [
    {
     "name": "stdout",
     "output_type": "stream",
     "text": [
      "⚠️ Please enter a valid number.\n"
     ]
    }
   ],
   "source": [
    "import random \n",
    "def check_product():\n",
    "    # Generate two random numbers\n",
    "    num1 = random.randint(2, 9)\n",
    "    num2 = random.randint(2, 9)\n",
    "    # Ask the user\n",
    "    user_answer = input(f\"What is {num1} × {num2}? \")\n",
    "     # Validate input\n",
    "    if not user_answer.isdigit():\n",
    "        return \"⚠️ Please enter a valid number.\"\n",
    "\n",
    "    user_answer = int(user_answer)\n",
    "    correct_answer = num1 * num2\n",
    "\n",
    "    \n",
    "    return \"Correct!\" if user_answer == correct_answer else f\"Wrong! The correct answer is {correct_answer}.\"\n",
    "\n",
    "# Run the quiz\n",
    "print(check_product())\n"
   ]
  },
  {
   "cell_type": "markdown",
   "id": "35ea7278",
   "metadata": {},
   "source": [
    "Exercise 3: Squares of Even/Odd Numbers Create a Python script that prints the squares of all even or odd numbers within the range of 100 to 200. Choose either even or odd numbers and document your choice in the code."
   ]
  },
  {
   "cell_type": "code",
   "execution_count": 3,
   "id": "1a54cd8a",
   "metadata": {},
   "outputs": [
    {
     "name": "stdout",
     "output_type": "stream",
     "text": [
      "101² = 10201\n",
      "103² = 10609\n",
      "105² = 11025\n",
      "107² = 11449\n",
      "109² = 11881\n",
      "111² = 12321\n",
      "113² = 12769\n",
      "115² = 13225\n",
      "117² = 13689\n",
      "119² = 14161\n",
      "121² = 14641\n",
      "123² = 15129\n",
      "125² = 15625\n",
      "127² = 16129\n",
      "129² = 16641\n",
      "131² = 17161\n",
      "133² = 17689\n",
      "135² = 18225\n",
      "137² = 18769\n",
      "139² = 19321\n",
      "141² = 19881\n",
      "143² = 20449\n",
      "145² = 21025\n",
      "147² = 21609\n",
      "149² = 22201\n",
      "151² = 22801\n",
      "153² = 23409\n",
      "155² = 24025\n",
      "157² = 24649\n",
      "159² = 25281\n",
      "161² = 25921\n",
      "163² = 26569\n",
      "165² = 27225\n",
      "167² = 27889\n",
      "169² = 28561\n",
      "171² = 29241\n",
      "173² = 29929\n",
      "175² = 30625\n",
      "177² = 31329\n",
      "179² = 32041\n",
      "181² = 32761\n",
      "183² = 33489\n",
      "185² = 34225\n",
      "187² = 34969\n",
      "189² = 35721\n",
      "191² = 36481\n",
      "193² = 37249\n",
      "195² = 38025\n",
      "197² = 38809\n",
      "199² = 39601\n"
     ]
    }
   ],
   "source": [
    "for num in range(100,201):\n",
    "    if num%2 != 0 :\n",
    "            print(f\"{num}² = {num ** 2}\")"
   ]
  },
  {
   "cell_type": "markdown",
   "id": "4ed3ae81",
   "metadata": {},
   "source": [
    "Exercise 4: Word counter\n",
    "\n",
    "write a program to count the number of words in a given text.\n",
    "\n",
    "example:\n",
    "\n",
    "input_text = \"This is a sample text. This text will be used to demonstrate the word counter.\"\n",
    "\n",
    "Expected output:\n",
    "\n",
    "'This': 2 \n",
    "\n",
    "'is': 1\n",
    "\n",
    "'a': 1\n",
    "\n",
    "'sample': 1\n",
    "\n",
    "'text.': 1"
   ]
  },
  {
   "cell_type": "code",
   "execution_count": 4,
   "id": "6b393ab6",
   "metadata": {},
   "outputs": [
    {
     "name": "stdout",
     "output_type": "stream",
     "text": [
      "'This': 2\n",
      "'is': 1\n",
      "'a': 1\n",
      "'sample': 1\n",
      "'text.': 1\n",
      "'text': 1\n",
      "'will': 1\n",
      "'be': 1\n",
      "'used': 1\n",
      "'to': 1\n",
      "'demonstrate': 1\n",
      "'the': 1\n",
      "'word': 1\n",
      "'counter.': 1\n"
     ]
    }
   ],
   "source": [
    "input_text =  \"This is a sample text. This text will be used to demonstrate the word counter.\"\n",
    "def word_count(input_text):\n",
    "    words = input_text.split()\n",
    "    word_freq = {}\n",
    "    for word in words:\n",
    "        word_freq[word] = word_freq.get(word, 0) + 1\n",
    "    return word_freq\n",
    "\n",
    "result = word_count(input_text)\n",
    "\n",
    "for word, count in result.items():\n",
    "    print(f\"'{word}': {count}\")"
   ]
  },
  {
   "cell_type": "markdown",
   "id": "5385546c",
   "metadata": {},
   "source": [
    "Exercise 5: Check for Palindrome\n",
    "\n",
    "Write a Python function called is_palindrome that takes a string as input and returns True if the string is a palindrome, and False otherwise. A palindrome is a word, phrase, number, or other sequence of characters that reads the same forward and backward, ignoring spaces, punctuation, and capitalization.\n",
    "\n",
    "Example:\n",
    "\n",
    "Input: \"racecar\"\n",
    "\n",
    "Expected Output: True"
   ]
  },
  {
   "cell_type": "code",
   "execution_count": 5,
   "id": "97ea4402",
   "metadata": {},
   "outputs": [
    {
     "name": "stdout",
     "output_type": "stream",
     "text": [
      "True\n",
      "True\n",
      "False\n"
     ]
    }
   ],
   "source": [
    "import string \n",
    "\n",
    "def is_palindrome(s: str) -> bool:\n",
    "    # Convert to lowercase \n",
    "    s = s.lower()\n",
    "    # kepp clean alphanumeric characters only\n",
    "    cleaned = ''.join(char for char in s if char.isalnum())\n",
    "    # check is string equals its reversed\n",
    "    return cleaned == cleaned[::-1]\n",
    "print(is_palindrome(\"racecar\"))              # True\n",
    "print(is_palindrome(\"RaceCar\"))  \n",
    "print(is_palindrome(\"hello\"))                # False"
   ]
  },
  {
   "cell_type": "code",
   "execution_count": null,
   "id": "b570d234",
   "metadata": {},
   "outputs": [],
   "source": []
  }
 ],
 "metadata": {
  "kernelspec": {
   "display_name": "base",
   "language": "python",
   "name": "python3"
  },
  "language_info": {
   "codemirror_mode": {
    "name": "ipython",
    "version": 3
   },
   "file_extension": ".py",
   "mimetype": "text/x-python",
   "name": "python",
   "nbconvert_exporter": "python",
   "pygments_lexer": "ipython3",
   "version": "3.12.7"
  }
 },
 "nbformat": 4,
 "nbformat_minor": 5
}
