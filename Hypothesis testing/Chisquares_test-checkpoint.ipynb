{
 "cells": [
  {
   "cell_type": "code",
   "execution_count": 1,
   "id": "7f85876d",
   "metadata": {},
   "outputs": [],
   "source": [
    "import numpy as np \n",
    "from scipy import stats \n",
    "import pandas as pd "
   ]
  },
  {
   "cell_type": "markdown",
   "id": "ca1d3964",
   "metadata": {},
   "source": [
    "1. Input Data (Observed Counts)"
   ]
  },
  {
   "cell_type": "code",
   "execution_count": 2,
   "id": "8008256c",
   "metadata": {},
   "outputs": [],
   "source": [
    "rows = [\"Very Satisfied\",\"Satisfied\",\"Neutral\", \"Unsatisfied\", \"Very Unsatisfied\"]\n",
    "cols = [\"Smart Thermostat\", \"Smart Light\"]"
   ]
  },
  {
   "cell_type": "code",
   "execution_count": 3,
   "id": "da370c83",
   "metadata": {},
   "outputs": [],
   "source": [
    "observed = np.array([\n",
    "    [50, 70],\n",
    "    [80, 100],\n",
    "    [60, 90],\n",
    "    [30, 50],\n",
    "    [20, 50]\n",
    "])"
   ]
  },
  {
   "cell_type": "markdown",
   "id": "e9e57571",
   "metadata": {},
   "source": [
    "2. State the Hypotheses"
   ]
  },
  {
   "cell_type": "code",
   "execution_count": 4,
   "id": "15ffbf26",
   "metadata": {},
   "outputs": [
    {
     "name": "stdout",
     "output_type": "stream",
     "text": [
      "1) Hypotheses:\n",
      "   H0: Device type and customer satisfaction are independent (no association).\n",
      "   H1: Device type and customer satisfaction are associated.\n",
      "\n"
     ]
    }
   ],
   "source": [
    "print(\"1) Hypotheses:\")\n",
    "print(\"   H0: Device type and customer satisfaction are independent (no association).\")\n",
    "print(\"   H1: Device type and customer satisfaction are associated.\\n\")"
   ]
  },
  {
   "cell_type": "markdown",
   "id": "1063726c",
   "metadata": {},
   "source": [
    "3. Compute Expected Counts"
   ]
  },
  {
   "cell_type": "code",
   "execution_count": 5,
   "id": "84791c30",
   "metadata": {},
   "outputs": [
    {
     "name": "stdout",
     "output_type": "stream",
     "text": [
      "2) Observed Contingency Table:\n",
      "                  Smart Thermostat  Smart Light\n",
      "Very Satisfied                  50           70\n",
      "Satisfied                       80          100\n",
      "Neutral                         60           90\n",
      "Unsatisfied                     30           50\n",
      "Very Unsatisfied                20           50 \n",
      "\n",
      "Row totals: [120, 180, 150, 80, 70]\n",
      "Column totals: [240, 360]\n",
      "Grand total: 600 \n",
      "\n",
      "Expected Counts (under H0):\n",
      "                  Smart Thermostat  Smart Light\n",
      "Very Satisfied                48.0         72.0\n",
      "Satisfied                     72.0        108.0\n",
      "Neutral                       60.0         90.0\n",
      "Unsatisfied                   32.0         48.0\n",
      "Very Unsatisfied              28.0         42.0 \n",
      "\n"
     ]
    }
   ],
   "source": [
    "row_totals = observed.sum(axis=1)\n",
    "col_totals = observed.sum(axis=0)\n",
    "grand_total = observed.sum()\n",
    "\n",
    "expected = np.outer(row_totals, col_totals) / grand_total\n",
    "\n",
    "print(\"2) Observed Contingency Table:\")\n",
    "print(pd.DataFrame(observed, index=rows, columns=cols), \"\\n\")\n",
    "\n",
    "print(\"Row totals:\", row_totals.tolist())\n",
    "print(\"Column totals:\", col_totals.tolist())\n",
    "print(\"Grand total:\", grand_total, \"\\n\")\n",
    "\n",
    "print(\"Expected Counts (under H0):\")\n",
    "print(pd.DataFrame(expected.round(2), index=rows, columns=cols), \"\\n\")"
   ]
  },
  {
   "cell_type": "markdown",
   "id": "48ca0e0f",
   "metadata": {},
   "source": [
    "2. Compute the Chi-Square Statistic:"
   ]
  },
  {
   "cell_type": "code",
   "execution_count": 6,
   "id": "0463f684",
   "metadata": {},
   "outputs": [
    {
     "name": "stdout",
     "output_type": "stream",
     "text": [
      "3) Chi-Square Contributions ((O-E)^2/E):\n",
      "                  Smart Thermostat  Smart Light\n",
      "Very Satisfied              0.0833       0.0556\n",
      "Satisfied                   0.8889       0.5926\n",
      "Neutral                     0.0000       0.0000\n",
      "Unsatisfied                 0.1250       0.0833\n",
      "Very Unsatisfied            2.2857       1.5238 \n",
      "\n",
      "Chi-Square Statistic: 5.638228\n",
      "Degrees of Freedom: 4\n",
      "Significance Level (alpha): 0.05\n",
      "Critical Value (Chi-Square, df=4, alpha=0.05): 9.487729\n",
      "P-Value: 0.227844\n",
      "\n"
     ]
    }
   ],
   "source": [
    "contrib = (observed - expected) ** 2 / expected\n",
    "chi2_stat = contrib.sum()\n",
    "\n",
    "r, c = observed.shape\n",
    "df = (r - 1) * (c - 1)\n",
    "alpha = 0.05\n",
    "\n",
    "critical_value = stats.chi2.ppf(1 - alpha, df)\n",
    "p_value = stats.chi2.sf(chi2_stat, df)\n",
    "\n",
    "print(\"3) Chi-Square Contributions ((O-E)^2/E):\")\n",
    "print(pd.DataFrame(contrib.round(4), index=rows, columns=cols), \"\\n\")\n",
    "\n",
    "print(f\"Chi-Square Statistic: {chi2_stat:.6f}\")\n",
    "print(f\"Degrees of Freedom: {df}\")\n",
    "print(f\"Significance Level (alpha): {alpha}\")\n",
    "print(f\"Critical Value (Chi-Square, df={df}, alpha={alpha}): {critical_value:.6f}\")\n",
    "print(f\"P-Value: {p_value:.6f}\\n\")"
   ]
  },
  {
   "cell_type": "markdown",
   "id": "d10ea095",
   "metadata": {},
   "source": [
    "4. Make a Decision:\n",
    "\n",
    "Compare the Chi-Square statistic with the critical value to decide whether to reject the null hypothesis."
   ]
  },
  {
   "cell_type": "code",
   "execution_count": 7,
   "id": "09e05b34",
   "metadata": {},
   "outputs": [
    {
     "name": "stdout",
     "output_type": "stream",
     "text": [
      "4) Decision and Conclusion:\n",
      "Decision: FAIL TO REJECT the null hypothesis (H0).\n",
      "Conclusion: There is NO significant association between device type and satisfaction.\n"
     ]
    }
   ],
   "source": [
    "print(\"4) Decision and Conclusion:\")\n",
    "if chi2_stat > critical_value:\n",
    "    print(\"Decision: REJECT the null hypothesis (H0).\")\n",
    "    print(\"Conclusion: There IS a significant association between device type and satisfaction.\")\n",
    "else:\n",
    "    print(\"Decision: FAIL TO REJECT the null hypothesis (H0).\")\n",
    "    print(\"Conclusion: There is NO significant association between device type and satisfaction.\")"
   ]
  }
 ],
 "metadata": {
  "kernelspec": {
   "display_name": "base",
   "language": "python",
   "name": "python3"
  },
  "language_info": {
   "codemirror_mode": {
    "name": "ipython",
    "version": 3
   },
   "file_extension": ".py",
   "mimetype": "text/x-python",
   "name": "python",
   "nbconvert_exporter": "python",
   "pygments_lexer": "ipython3",
   "version": "3.12.7"
  }
 },
 "nbformat": 4,
 "nbformat_minor": 5
}
