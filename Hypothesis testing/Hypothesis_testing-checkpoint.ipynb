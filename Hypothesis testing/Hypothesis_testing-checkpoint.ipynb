{
 "cells": [
  {
   "cell_type": "code",
   "execution_count": 1,
   "id": "f44ae076",
   "metadata": {},
   "outputs": [],
   "source": [
    "import math\n",
    "from scipy.stats import norm"
   ]
  },
  {
   "cell_type": "markdown",
   "id": "9363d49f",
   "metadata": {},
   "source": [
    "1. State the Hypotheses statement:"
   ]
  },
  {
   "cell_type": "code",
   "execution_count": 2,
   "id": "1933d943",
   "metadata": {},
   "outputs": [
    {
     "name": "stdout",
     "output_type": "stream",
     "text": [
      "1) Hypotheses:\n",
      "   H0: The mean weekly operating cost follows the model (μ = 4000).\n",
      "   H1: The mean weekly operating cost is higher than the model (μ > 4000).\n",
      "\n"
     ]
    }
   ],
   "source": [
    "print(\"1) Hypotheses:\")\n",
    "print(\"   H0: The mean weekly operating cost follows the model (μ = 4000).\")\n",
    "print(\"   H1: The mean weekly operating cost is higher than the model (μ > 4000).\")\n",
    "print()"
   ]
  },
  {
   "cell_type": "markdown",
   "id": "23012d48",
   "metadata": {},
   "source": [
    "2. Calculate the Test Statistic:\n",
    "\n",
    "Use the following formula to calculate the test statistic (t):\n",
    "\n",
    "where:\n",
    "\n",
    "ˉxˉ = sample mean weekly cost (Rs. 3,050)\n",
    "\n",
    "μ = theoretical mean weekly cost according to the cost model (W = $1,000 + $5X for X = 600 units)\n",
    "\n",
    "σ = 5*25 units\n",
    "\n",
    "n = sample size (25 restaurants)"
   ]
  },
  {
   "cell_type": "code",
   "execution_count": 3,
   "id": "0b96ea1e",
   "metadata": {},
   "outputs": [
    {
     "name": "stdout",
     "output_type": "stream",
     "text": [
      "2) Test Statistic Calculation:\n",
      "   Theoretical mean cost (μ0): 4000\n",
      "   Sample mean cost (x̄): 3050\n",
      "   Standard deviation of costs (σ): 125\n",
      "   Standard error (SE): 25.0000\n",
      "   Z-statistic: -38.0000\n",
      "\n"
     ]
    }
   ],
   "source": [
    "# Model parameters\n",
    "X_mean = 600\n",
    "X_std = 25\n",
    "sample_size = 25\n",
    "sample_mean = 3050\n",
    "\n",
    "# Theoretical mean weekly cost under H0\n",
    "mu_0 = 1000 + 5 * X_mean\n",
    "\n",
    "# Standard deviation of weekly costs\n",
    "sigma = 5 * X_std\n",
    "\n",
    "# Standard error\n",
    "se = sigma / math.sqrt(sample_size)\n",
    "\n",
    "# Test statistic (Z)\n",
    "z_stat = (sample_mean - mu_0) / se\n",
    "\n",
    "print(\"2) Test Statistic Calculation:\")\n",
    "print(f\"   Theoretical mean cost (μ0): {mu_0}\")\n",
    "print(f\"   Sample mean cost (x̄): {sample_mean}\")\n",
    "print(f\"   Standard deviation of costs (σ): {sigma}\")\n",
    "print(f\"   Standard error (SE): {se:.4f}\")\n",
    "print(f\"   Z-statistic: {z_stat:.4f}\")\n",
    "print()"
   ]
  },
  {
   "cell_type": "markdown",
   "id": "384b5bb9",
   "metadata": {},
   "source": [
    "3. Determine the Critical Value:\n",
    "\n",
    "Using the alpha level of 5% (α = 0.05), determine the critical value from the standard normal (Z) distribution table."
   ]
  },
  {
   "cell_type": "code",
   "execution_count": 4,
   "id": "3c1671da",
   "metadata": {},
   "outputs": [
    {
     "name": "stdout",
     "output_type": "stream",
     "text": [
      "3) Critical Value:\n",
      "   Significance level (alpha): 0.05\n",
      "   Critical Z-value (one-tailed): 1.6449\n",
      "\n"
     ]
    }
   ],
   "source": [
    "alpha = 0.05\n",
    "critical_value = norm.ppf(1 - alpha)\n",
    "\n",
    "print(\"3) Critical Value:\")\n",
    "print(f\"   Significance level (alpha): {alpha}\")\n",
    "print(f\"   Critical Z-value (one-tailed): {critical_value:.4f}\")\n",
    "print()"
   ]
  },
  {
   "cell_type": "markdown",
   "id": "784d3a11",
   "metadata": {},
   "source": [
    "4. Make a Decision:\n",
    "\n",
    "Compare the test statistic with the critical value to decide whether to reject the null hypothesis."
   ]
  },
  {
   "cell_type": "code",
   "execution_count": 5,
   "id": "615bc345",
   "metadata": {},
   "outputs": [
    {
     "name": "stdout",
     "output_type": "stream",
     "text": [
      "4) Decision:\n",
      "   Since Z = -38.0000 <= 1.6449, we fail to reject the null hypothesis.\n",
      "\n"
     ]
    }
   ],
   "source": [
    "print(\"4) Decision:\")\n",
    "if z_stat > critical_value:\n",
    "    decision = \"Reject H0\"\n",
    "    print(f\"   Since Z = {z_stat:.4f} > {critical_value:.4f}, we reject the null hypothesis.\")\n",
    "else:\n",
    "    decision = \"Fail to Reject H0\"\n",
    "    print(f\"   Since Z = {z_stat:.4f} <= {critical_value:.4f}, we fail to reject the null hypothesis.\")\n",
    "print()"
   ]
  },
  {
   "cell_type": "markdown",
   "id": "981c673b",
   "metadata": {},
   "source": [
    "5. Conclusion:\n",
    "\n",
    "Based on the decision in step 4, conclude whether there is strong evidence to support the restaurant owners' claim that the weekly operating costs are higher than the model suggests."
   ]
  },
  {
   "cell_type": "code",
   "execution_count": 6,
   "id": "43f5a012",
   "metadata": {},
   "outputs": [
    {
     "name": "stdout",
     "output_type": "stream",
     "text": [
      "5) Conclusion:\n",
      "   There is insufficient evidence to conclude that the weekly operating costs are higher than predicted by the model.\n"
     ]
    }
   ],
   "source": [
    "print(\"5) Conclusion:\")\n",
    "if decision == \"Reject H0\":\n",
    "    print(\"   There is strong evidence that the weekly operating costs are higher than predicted by the model.\")\n",
    "else:\n",
    "    print(\"   There is insufficient evidence to conclude that the weekly operating costs are higher than predicted by the model.\")"
   ]
  },
  {
   "cell_type": "code",
   "execution_count": null,
   "id": "81bc6a5a",
   "metadata": {},
   "outputs": [],
   "source": []
  },
  {
   "cell_type": "code",
   "execution_count": null,
   "id": "5d9170d8-45b9-45fe-b0d6-b261c3d370e6",
   "metadata": {},
   "outputs": [],
   "source": []
  }
 ],
 "metadata": {
  "kernelspec": {
   "display_name": "base",
   "language": "python",
   "name": "python3"
  },
  "language_info": {
   "codemirror_mode": {
    "name": "ipython",
    "version": 3
   },
   "file_extension": ".py",
   "mimetype": "text/x-python",
   "name": "python",
   "nbconvert_exporter": "python",
   "pygments_lexer": "ipython3",
   "version": "3.12.7"
  }
 },
 "nbformat": 4,
 "nbformat_minor": 5
}
