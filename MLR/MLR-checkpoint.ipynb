{
 "cells": [
  {
   "cell_type": "code",
   "execution_count": 1,
   "id": "8aa60b58",
   "metadata": {},
   "outputs": [],
   "source": [
    "import pandas as pd \n",
    "import numpy as np \n",
    "import matplotlib.pyplot as plt \n",
    "import seaborn as sns "
   ]
  },
  {
   "cell_type": "markdown",
   "id": "5853de34",
   "metadata": {},
   "source": [
    "1.Perform exploratory data analysis (EDA) to gain insights into the dataset. Provide visualizations and summary statistics of the variables. Pre process the data to apply the MLR."
   ]
  },
  {
   "cell_type": "code",
   "execution_count": 2,
   "id": "d1b5ebab",
   "metadata": {},
   "outputs": [
    {
     "data": {
      "text/html": [
       "<div>\n",
       "<style scoped>\n",
       "    .dataframe tbody tr th:only-of-type {\n",
       "        vertical-align: middle;\n",
       "    }\n",
       "\n",
       "    .dataframe tbody tr th {\n",
       "        vertical-align: top;\n",
       "    }\n",
       "\n",
       "    .dataframe thead th {\n",
       "        text-align: right;\n",
       "    }\n",
       "</style>\n",
       "<table border=\"1\" class=\"dataframe\">\n",
       "  <thead>\n",
       "    <tr style=\"text-align: right;\">\n",
       "      <th></th>\n",
       "      <th>Price</th>\n",
       "      <th>Age_08_04</th>\n",
       "      <th>KM</th>\n",
       "      <th>Fuel_Type</th>\n",
       "      <th>HP</th>\n",
       "      <th>Automatic</th>\n",
       "      <th>cc</th>\n",
       "      <th>Doors</th>\n",
       "      <th>Cylinders</th>\n",
       "      <th>Gears</th>\n",
       "      <th>Weight</th>\n",
       "    </tr>\n",
       "  </thead>\n",
       "  <tbody>\n",
       "    <tr>\n",
       "      <th>0</th>\n",
       "      <td>13500</td>\n",
       "      <td>23</td>\n",
       "      <td>46986</td>\n",
       "      <td>Diesel</td>\n",
       "      <td>90</td>\n",
       "      <td>0</td>\n",
       "      <td>2000</td>\n",
       "      <td>3</td>\n",
       "      <td>4</td>\n",
       "      <td>5</td>\n",
       "      <td>1165</td>\n",
       "    </tr>\n",
       "    <tr>\n",
       "      <th>1</th>\n",
       "      <td>13750</td>\n",
       "      <td>23</td>\n",
       "      <td>72937</td>\n",
       "      <td>Diesel</td>\n",
       "      <td>90</td>\n",
       "      <td>0</td>\n",
       "      <td>2000</td>\n",
       "      <td>3</td>\n",
       "      <td>4</td>\n",
       "      <td>5</td>\n",
       "      <td>1165</td>\n",
       "    </tr>\n",
       "    <tr>\n",
       "      <th>2</th>\n",
       "      <td>13950</td>\n",
       "      <td>24</td>\n",
       "      <td>41711</td>\n",
       "      <td>Diesel</td>\n",
       "      <td>90</td>\n",
       "      <td>0</td>\n",
       "      <td>2000</td>\n",
       "      <td>3</td>\n",
       "      <td>4</td>\n",
       "      <td>5</td>\n",
       "      <td>1165</td>\n",
       "    </tr>\n",
       "    <tr>\n",
       "      <th>3</th>\n",
       "      <td>14950</td>\n",
       "      <td>26</td>\n",
       "      <td>48000</td>\n",
       "      <td>Diesel</td>\n",
       "      <td>90</td>\n",
       "      <td>0</td>\n",
       "      <td>2000</td>\n",
       "      <td>3</td>\n",
       "      <td>4</td>\n",
       "      <td>5</td>\n",
       "      <td>1165</td>\n",
       "    </tr>\n",
       "    <tr>\n",
       "      <th>4</th>\n",
       "      <td>13750</td>\n",
       "      <td>30</td>\n",
       "      <td>38500</td>\n",
       "      <td>Diesel</td>\n",
       "      <td>90</td>\n",
       "      <td>0</td>\n",
       "      <td>2000</td>\n",
       "      <td>3</td>\n",
       "      <td>4</td>\n",
       "      <td>5</td>\n",
       "      <td>1170</td>\n",
       "    </tr>\n",
       "  </tbody>\n",
       "</table>\n",
       "</div>"
      ],
      "text/plain": [
       "   Price  Age_08_04     KM Fuel_Type  HP  Automatic    cc  Doors  Cylinders  \\\n",
       "0  13500         23  46986    Diesel  90          0  2000      3          4   \n",
       "1  13750         23  72937    Diesel  90          0  2000      3          4   \n",
       "2  13950         24  41711    Diesel  90          0  2000      3          4   \n",
       "3  14950         26  48000    Diesel  90          0  2000      3          4   \n",
       "4  13750         30  38500    Diesel  90          0  2000      3          4   \n",
       "\n",
       "   Gears  Weight  \n",
       "0      5    1165  \n",
       "1      5    1165  \n",
       "2      5    1165  \n",
       "3      5    1165  \n",
       "4      5    1170  "
      ]
     },
     "execution_count": 2,
     "metadata": {},
     "output_type": "execute_result"
    }
   ],
   "source": [
    "df = pd.read_csv(\"ToyotaCorolla - MLR.csv\")\n",
    "df.head()"
   ]
  },
  {
   "cell_type": "code",
   "execution_count": 3,
   "id": "1b2f5d45",
   "metadata": {},
   "outputs": [
    {
     "name": "stdout",
     "output_type": "stream",
     "text": [
      "The Total Number of rows : 1436\n"
     ]
    }
   ],
   "source": [
    "print(\"The Total Number of rows : \" +str(len(df)))"
   ]
  },
  {
   "cell_type": "code",
   "execution_count": 4,
   "id": "12b789fa",
   "metadata": {},
   "outputs": [
    {
     "data": {
      "text/html": [
       "<div>\n",
       "<style scoped>\n",
       "    .dataframe tbody tr th:only-of-type {\n",
       "        vertical-align: middle;\n",
       "    }\n",
       "\n",
       "    .dataframe tbody tr th {\n",
       "        vertical-align: top;\n",
       "    }\n",
       "\n",
       "    .dataframe thead th {\n",
       "        text-align: right;\n",
       "    }\n",
       "</style>\n",
       "<table border=\"1\" class=\"dataframe\">\n",
       "  <thead>\n",
       "    <tr style=\"text-align: right;\">\n",
       "      <th></th>\n",
       "      <th>Price</th>\n",
       "      <th>Age_08_04</th>\n",
       "      <th>KM</th>\n",
       "      <th>HP</th>\n",
       "      <th>Automatic</th>\n",
       "      <th>cc</th>\n",
       "      <th>Doors</th>\n",
       "      <th>Cylinders</th>\n",
       "      <th>Gears</th>\n",
       "      <th>Weight</th>\n",
       "    </tr>\n",
       "  </thead>\n",
       "  <tbody>\n",
       "    <tr>\n",
       "      <th>count</th>\n",
       "      <td>1436.000000</td>\n",
       "      <td>1436.000000</td>\n",
       "      <td>1436.000000</td>\n",
       "      <td>1436.000000</td>\n",
       "      <td>1436.000000</td>\n",
       "      <td>1436.00000</td>\n",
       "      <td>1436.000000</td>\n",
       "      <td>1436.0</td>\n",
       "      <td>1436.000000</td>\n",
       "      <td>1436.00000</td>\n",
       "    </tr>\n",
       "    <tr>\n",
       "      <th>mean</th>\n",
       "      <td>10730.824513</td>\n",
       "      <td>55.947075</td>\n",
       "      <td>68533.259749</td>\n",
       "      <td>101.502089</td>\n",
       "      <td>0.055710</td>\n",
       "      <td>1576.85585</td>\n",
       "      <td>4.033426</td>\n",
       "      <td>4.0</td>\n",
       "      <td>5.026462</td>\n",
       "      <td>1072.45961</td>\n",
       "    </tr>\n",
       "    <tr>\n",
       "      <th>std</th>\n",
       "      <td>3626.964585</td>\n",
       "      <td>18.599988</td>\n",
       "      <td>37506.448872</td>\n",
       "      <td>14.981080</td>\n",
       "      <td>0.229441</td>\n",
       "      <td>424.38677</td>\n",
       "      <td>0.952677</td>\n",
       "      <td>0.0</td>\n",
       "      <td>0.188510</td>\n",
       "      <td>52.64112</td>\n",
       "    </tr>\n",
       "    <tr>\n",
       "      <th>min</th>\n",
       "      <td>4350.000000</td>\n",
       "      <td>1.000000</td>\n",
       "      <td>1.000000</td>\n",
       "      <td>69.000000</td>\n",
       "      <td>0.000000</td>\n",
       "      <td>1300.00000</td>\n",
       "      <td>2.000000</td>\n",
       "      <td>4.0</td>\n",
       "      <td>3.000000</td>\n",
       "      <td>1000.00000</td>\n",
       "    </tr>\n",
       "    <tr>\n",
       "      <th>25%</th>\n",
       "      <td>8450.000000</td>\n",
       "      <td>44.000000</td>\n",
       "      <td>43000.000000</td>\n",
       "      <td>90.000000</td>\n",
       "      <td>0.000000</td>\n",
       "      <td>1400.00000</td>\n",
       "      <td>3.000000</td>\n",
       "      <td>4.0</td>\n",
       "      <td>5.000000</td>\n",
       "      <td>1040.00000</td>\n",
       "    </tr>\n",
       "    <tr>\n",
       "      <th>50%</th>\n",
       "      <td>9900.000000</td>\n",
       "      <td>61.000000</td>\n",
       "      <td>63389.500000</td>\n",
       "      <td>110.000000</td>\n",
       "      <td>0.000000</td>\n",
       "      <td>1600.00000</td>\n",
       "      <td>4.000000</td>\n",
       "      <td>4.0</td>\n",
       "      <td>5.000000</td>\n",
       "      <td>1070.00000</td>\n",
       "    </tr>\n",
       "    <tr>\n",
       "      <th>75%</th>\n",
       "      <td>11950.000000</td>\n",
       "      <td>70.000000</td>\n",
       "      <td>87020.750000</td>\n",
       "      <td>110.000000</td>\n",
       "      <td>0.000000</td>\n",
       "      <td>1600.00000</td>\n",
       "      <td>5.000000</td>\n",
       "      <td>4.0</td>\n",
       "      <td>5.000000</td>\n",
       "      <td>1085.00000</td>\n",
       "    </tr>\n",
       "    <tr>\n",
       "      <th>max</th>\n",
       "      <td>32500.000000</td>\n",
       "      <td>80.000000</td>\n",
       "      <td>243000.000000</td>\n",
       "      <td>192.000000</td>\n",
       "      <td>1.000000</td>\n",
       "      <td>16000.00000</td>\n",
       "      <td>5.000000</td>\n",
       "      <td>4.0</td>\n",
       "      <td>6.000000</td>\n",
       "      <td>1615.00000</td>\n",
       "    </tr>\n",
       "  </tbody>\n",
       "</table>\n",
       "</div>"
      ],
      "text/plain": [
       "              Price    Age_08_04             KM           HP    Automatic  \\\n",
       "count   1436.000000  1436.000000    1436.000000  1436.000000  1436.000000   \n",
       "mean   10730.824513    55.947075   68533.259749   101.502089     0.055710   \n",
       "std     3626.964585    18.599988   37506.448872    14.981080     0.229441   \n",
       "min     4350.000000     1.000000       1.000000    69.000000     0.000000   \n",
       "25%     8450.000000    44.000000   43000.000000    90.000000     0.000000   \n",
       "50%     9900.000000    61.000000   63389.500000   110.000000     0.000000   \n",
       "75%    11950.000000    70.000000   87020.750000   110.000000     0.000000   \n",
       "max    32500.000000    80.000000  243000.000000   192.000000     1.000000   \n",
       "\n",
       "                cc        Doors  Cylinders        Gears      Weight  \n",
       "count   1436.00000  1436.000000     1436.0  1436.000000  1436.00000  \n",
       "mean    1576.85585     4.033426        4.0     5.026462  1072.45961  \n",
       "std      424.38677     0.952677        0.0     0.188510    52.64112  \n",
       "min     1300.00000     2.000000        4.0     3.000000  1000.00000  \n",
       "25%     1400.00000     3.000000        4.0     5.000000  1040.00000  \n",
       "50%     1600.00000     4.000000        4.0     5.000000  1070.00000  \n",
       "75%     1600.00000     5.000000        4.0     5.000000  1085.00000  \n",
       "max    16000.00000     5.000000        4.0     6.000000  1615.00000  "
      ]
     },
     "execution_count": 4,
     "metadata": {},
     "output_type": "execute_result"
    }
   ],
   "source": [
    "df.describe()"
   ]
  },
  {
   "cell_type": "code",
   "execution_count": 5,
   "id": "fcc0f10f",
   "metadata": {},
   "outputs": [
    {
     "data": {
      "text/plain": [
       "Price         int64\n",
       "Age_08_04     int64\n",
       "KM            int64\n",
       "Fuel_Type    object\n",
       "HP            int64\n",
       "Automatic     int64\n",
       "cc            int64\n",
       "Doors         int64\n",
       "Cylinders     int64\n",
       "Gears         int64\n",
       "Weight        int64\n",
       "dtype: object"
      ]
     },
     "execution_count": 5,
     "metadata": {},
     "output_type": "execute_result"
    }
   ],
   "source": [
    "df.dtypes"
   ]
  },
  {
   "cell_type": "code",
   "execution_count": 6,
   "id": "36d99634",
   "metadata": {},
   "outputs": [
    {
     "data": {
      "text/plain": [
       "Price        0\n",
       "Age_08_04    0\n",
       "KM           0\n",
       "Fuel_Type    0\n",
       "HP           0\n",
       "Automatic    0\n",
       "cc           0\n",
       "Doors        0\n",
       "Cylinders    0\n",
       "Gears        0\n",
       "Weight       0\n",
       "dtype: int64"
      ]
     },
     "execution_count": 6,
     "metadata": {},
     "output_type": "execute_result"
    }
   ],
   "source": [
    "df.isnull().sum()"
   ]
  },
  {
   "cell_type": "code",
   "execution_count": 7,
   "id": "941c1502",
   "metadata": {},
   "outputs": [
    {
     "name": "stdout",
     "output_type": "stream",
     "text": [
      "(1436, 10)\n"
     ]
    }
   ],
   "source": [
    "# Outlier\n",
    "numeric_col = df.select_dtypes(['float64','int64']).columns\n",
    "Q1 = df[numeric_col].quantile(0.25)\n",
    "Q3 = df[numeric_col].quantile(0.75)\n",
    "IQR = Q3-Q1\n",
    "outlier = ((df[numeric_col] < (Q1 - 1.5 * IQR) ) | ((df[numeric_col] > (Q3 + 1.5 * IQR))))\n",
    "print(outlier.shape)\n",
    "#sns.boxplot(data = df[outlier])\n",
    "#print(outlier.sum())\n",
    "\n"
   ]
  },
  {
   "cell_type": "code",
   "execution_count": 8,
   "id": "47ee16eb",
   "metadata": {},
   "outputs": [
    {
     "name": "stdout",
     "output_type": "stream",
     "text": [
      "(1098, 11)\n"
     ]
    }
   ],
   "source": [
    "remove_outlier = df[~((df[numeric_col] < (Q1 - 1.5 * IQR)) | ((df[numeric_col]>(Q3 + 1.5 * IQR)))).any(axis = 1)]\n",
    "#sns.boxplot(remove_outlier)\n",
    "print(remove_outlier.shape)"
   ]
  },
  {
   "cell_type": "markdown",
   "id": "e0fb7a94",
   "metadata": {},
   "source": [
    "Histogram "
   ]
  },
  {
   "cell_type": "code",
   "execution_count": 9,
   "id": "31cf67b2",
   "metadata": {},
   "outputs": [
    {
     "data": {
      "text/plain": [
       "<Axes: ylabel='Frequency'>"
      ]
     },
     "execution_count": 9,
     "metadata": {},
     "output_type": "execute_result"
    },
    {
     "data": {
      "image/png": "[encoded data removed]",
      "text/plain": [
       "<Figure size 640x480 with 1 Axes>"
      ]
     },
     "metadata": {},
     "output_type": "display_data"
    }
   ],
   "source": [
    "df['Age_08_04'].plot.hist()"
   ]
  },
  {
   "cell_type": "code",
   "execution_count": 10,
   "id": "aeadf342",
   "metadata": {},
   "outputs": [
    {
     "name": "stdout",
     "output_type": "stream",
     "text": [
      "Mean :  Price        10730.824513\n",
      "Age_08_04       55.947075\n",
      "KM           68533.259749\n",
      "HP             101.502089\n",
      "Automatic        0.055710\n",
      "cc            1576.855850\n",
      "Doors            4.033426\n",
      "Cylinders        4.000000\n",
      "Gears            5.026462\n",
      "Weight        1072.459610\n",
      "dtype: float64\n"
     ]
    }
   ],
   "source": [
    "# mean \n",
    "print(\"Mean : \", df.mean(numeric_only=True))"
   ]
  },
  {
   "cell_type": "markdown",
   "id": "28e35a6f-4d32-4a56-88ed-117c3c3715d9",
   "metadata": {},
   "source": [
    "# Assistant\n",
    "The error occurs because you're trying to calculate the mean of a DataFrame that contains non-numeric data (specifically, it looks like there's a column with fuel types like \"Petrol\", \"Diesel\", and \"CNG\"). Pandas can't automatically calculate the mean of string values.\n",
    "\n",
    "To fix this error, you need to:\n",
    "1. Select only the numeric columns before calculating the mean, or\n",
    "2. Convert string columns to numeric if appropriate, or\n",
    "3. Use the `numeric_only=True` parameter in the mean function\n",
    "\n",
    "Would you like me to provide the corrected code?"
   ]
  },
  {
   "cell_type": "code",
   "execution_count": 11,
   "id": "15aac893",
   "metadata": {},
   "outputs": [
    {
     "data": {
      "image/png": "[encoded data removed]",
      "text/plain": [
       "<Figure size 640x480 with 2 Axes>"
      ]
     },
     "metadata": {},
     "output_type": "display_data"
    }
   ],
   "source": [
    "# Correlation Metrics \n",
    "corr = df.corr(numeric_only=True)\n",
    "\n",
    "# plot heatmap \n",
    "plt.Figure(figsize=(10,6))\n",
    "sns.heatmap(corr, annot = True, fmt=\".2f\", cmap = \"coolwarm\", cbar = True, square=True)\n",
    "plt.title(\"Correlation Heatmap of Numerical Features\")\n",
    "plt.show()"
   ]
  },
  {
   "cell_type": "code",
   "execution_count": 12,
   "id": "583f5d8f",
   "metadata": {},
   "outputs": [
    {
     "name": "stdout",
     "output_type": "stream",
     "text": [
      "Index(['Price', 'Age_08_04', 'KM', 'Fuel_Type', 'HP', 'Automatic', 'cc',\n",
      "       'Doors', 'Cylinders', 'Gears', 'Weight'],\n",
      "      dtype='object')\n"
     ]
    }
   ],
   "source": [
    "print(df.columns)"
   ]
  },
  {
   "cell_type": "markdown",
   "id": "b9906cb9",
   "metadata": {},
   "source": [
    "LabelEncoding"
   ]
  },
  {
   "cell_type": "code",
   "execution_count": 13,
   "id": "c0e7c0c1",
   "metadata": {},
   "outputs": [],
   "source": [
    "from sklearn.preprocessing import LabelEncoder\n",
    "\n",
    "le = LabelEncoder()\n",
    "df['Fuel_Type'] = le.fit_transform(df['Fuel_Type'])\n"
   ]
  },
  {
   "cell_type": "code",
   "execution_count": 14,
   "id": "70626cdf",
   "metadata": {},
   "outputs": [
    {
     "data": {
      "text/html": [
       "<div>\n",
       "<style scoped>\n",
       "    .dataframe tbody tr th:only-of-type {\n",
       "        vertical-align: middle;\n",
       "    }\n",
       "\n",
       "    .dataframe tbody tr th {\n",
       "        vertical-align: top;\n",
       "    }\n",
       "\n",
       "    .dataframe thead th {\n",
       "        text-align: right;\n",
       "    }\n",
       "</style>\n",
       "<table border=\"1\" class=\"dataframe\">\n",
       "  <thead>\n",
       "    <tr style=\"text-align: right;\">\n",
       "      <th></th>\n",
       "      <th>Price</th>\n",
       "      <th>Age_08_04</th>\n",
       "      <th>KM</th>\n",
       "      <th>Fuel_Type</th>\n",
       "      <th>HP</th>\n",
       "      <th>Automatic</th>\n",
       "      <th>cc</th>\n",
       "      <th>Doors</th>\n",
       "      <th>Cylinders</th>\n",
       "      <th>Gears</th>\n",
       "      <th>Weight</th>\n",
       "    </tr>\n",
       "  </thead>\n",
       "  <tbody>\n",
       "    <tr>\n",
       "      <th>0</th>\n",
       "      <td>13500</td>\n",
       "      <td>23</td>\n",
       "      <td>46986</td>\n",
       "      <td>1</td>\n",
       "      <td>90</td>\n",
       "      <td>0</td>\n",
       "      <td>2000</td>\n",
       "      <td>3</td>\n",
       "      <td>4</td>\n",
       "      <td>5</td>\n",
       "      <td>1165</td>\n",
       "    </tr>\n",
       "    <tr>\n",
       "      <th>1</th>\n",
       "      <td>13750</td>\n",
       "      <td>23</td>\n",
       "      <td>72937</td>\n",
       "      <td>1</td>\n",
       "      <td>90</td>\n",
       "      <td>0</td>\n",
       "      <td>2000</td>\n",
       "      <td>3</td>\n",
       "      <td>4</td>\n",
       "      <td>5</td>\n",
       "      <td>1165</td>\n",
       "    </tr>\n",
       "    <tr>\n",
       "      <th>2</th>\n",
       "      <td>13950</td>\n",
       "      <td>24</td>\n",
       "      <td>41711</td>\n",
       "      <td>1</td>\n",
       "      <td>90</td>\n",
       "      <td>0</td>\n",
       "      <td>2000</td>\n",
       "      <td>3</td>\n",
       "      <td>4</td>\n",
       "      <td>5</td>\n",
       "      <td>1165</td>\n",
       "    </tr>\n",
       "    <tr>\n",
       "      <th>3</th>\n",
       "      <td>14950</td>\n",
       "      <td>26</td>\n",
       "      <td>48000</td>\n",
       "      <td>1</td>\n",
       "      <td>90</td>\n",
       "      <td>0</td>\n",
       "      <td>2000</td>\n",
       "      <td>3</td>\n",
       "      <td>4</td>\n",
       "      <td>5</td>\n",
       "      <td>1165</td>\n",
       "    </tr>\n",
       "    <tr>\n",
       "      <th>4</th>\n",
       "      <td>13750</td>\n",
       "      <td>30</td>\n",
       "      <td>38500</td>\n",
       "      <td>1</td>\n",
       "      <td>90</td>\n",
       "      <td>0</td>\n",
       "      <td>2000</td>\n",
       "      <td>3</td>\n",
       "      <td>4</td>\n",
       "      <td>5</td>\n",
       "      <td>1170</td>\n",
       "    </tr>\n",
       "  </tbody>\n",
       "</table>\n",
       "</div>"
      ],
      "text/plain": [
       "   Price  Age_08_04     KM  Fuel_Type  HP  Automatic    cc  Doors  Cylinders  \\\n",
       "0  13500         23  46986          1  90          0  2000      3          4   \n",
       "1  13750         23  72937          1  90          0  2000      3          4   \n",
       "2  13950         24  41711          1  90          0  2000      3          4   \n",
       "3  14950         26  48000          1  90          0  2000      3          4   \n",
       "4  13750         30  38500          1  90          0  2000      3          4   \n",
       "\n",
       "   Gears  Weight  \n",
       "0      5    1165  \n",
       "1      5    1165  \n",
       "2      5    1165  \n",
       "3      5    1165  \n",
       "4      5    1170  "
      ]
     },
     "execution_count": 14,
     "metadata": {},
     "output_type": "execute_result"
    }
   ],
   "source": [
    "df.head()"
   ]
  },
  {
   "cell_type": "code",
   "execution_count": 15,
   "id": "1bbdc227",
   "metadata": {},
   "outputs": [
    {
     "name": "stdout",
     "output_type": "stream",
     "text": [
      "Index(['Price', 'Age_08_04', 'KM', 'Fuel_Type', 'HP', 'Automatic', 'cc',\n",
      "       'Doors', 'Cylinders', 'Gears', 'Weight'],\n",
      "      dtype='object')\n"
     ]
    }
   ],
   "source": [
    "print(df.columns)"
   ]
  },
  {
   "cell_type": "markdown",
   "id": "2fe5159a",
   "metadata": {},
   "source": [
    "2.Split the dataset into training and testing sets (e.g., 80% training, 20% testing)."
   ]
  },
  {
   "cell_type": "code",
   "execution_count": 16,
   "id": "a921e97b",
   "metadata": {},
   "outputs": [],
   "source": [
    "x = df.drop('Price', axis=1) \n",
    "y = df[\"Price\"]"
   ]
  },
  {
   "cell_type": "code",
   "execution_count": 17,
   "id": "69284983",
   "metadata": {},
   "outputs": [
    {
     "data": {
      "text/plain": [
       "(1436, 10)"
      ]
     },
     "execution_count": 17,
     "metadata": {},
     "output_type": "execute_result"
    }
   ],
   "source": [
    "x.shape"
   ]
  },
  {
   "cell_type": "code",
   "execution_count": 18,
   "id": "78b4e907",
   "metadata": {},
   "outputs": [
    {
     "data": {
      "text/plain": [
       "(1436,)"
      ]
     },
     "execution_count": 18,
     "metadata": {},
     "output_type": "execute_result"
    }
   ],
   "source": [
    "y.shape"
   ]
  },
  {
   "cell_type": "code",
   "execution_count": 19,
   "id": "21f8aa96",
   "metadata": {},
   "outputs": [],
   "source": [
    "from sklearn.model_selection import train_test_split\n",
    "x_train, x_test,y_train,y_test = train_test_split(x,y,test_size=0.03,random_state=40)"
   ]
  },
  {
   "cell_type": "markdown",
   "id": "081cd54a",
   "metadata": {},
   "source": [
    "3.Build a multiple linear regression model using the training dataset. Interpret the coefficients of the model. Build minimum of 3 different models."
   ]
  },
  {
   "cell_type": "markdown",
   "id": "c19d8e75",
   "metadata": {},
   "source": [
    "Model 1"
   ]
  },
  {
   "cell_type": "code",
   "execution_count": 20,
   "id": "2a9f061e",
   "metadata": {},
   "outputs": [
    {
     "name": "stdout",
     "output_type": "stream",
     "text": [
      "Intercept : -9670.322933412926\n",
      "Coefficients : [-1.24578116e+02 -1.71787915e-02  6.11756357e+02  2.37077499e+01\n",
      "  3.02526221e+02 -5.91165028e-02 -4.09607904e+01 -3.86535248e-12\n",
      "  6.27967385e+02  2.05954923e+01]\n"
     ]
    }
   ],
   "source": [
    "from sklearn.linear_model import LinearRegression\n",
    "\n",
    "model1 = LinearRegression()\n",
    "\n",
    "model1.fit(x_train,y_train)\n",
    "\n",
    "print(\"Intercept :\",model1.intercept_)\n",
    "print(\"Coefficients :\",model1.coef_)\n"
   ]
  },
  {
   "cell_type": "markdown",
   "id": "143362f6",
   "metadata": {},
   "source": [
    "Model 2"
   ]
  },
  {
   "cell_type": "code",
   "execution_count": 21,
   "id": "599d7c54",
   "metadata": {},
   "outputs": [
    {
     "name": "stdout",
     "output_type": "stream",
     "text": [
      "Intercept: 10732.025143678158\n",
      "Coefficients: [-2.32137739e+03 -6.43941168e+02  2.27321289e+02  3.55759744e+02\n",
      "  6.95774922e+01 -2.53819142e+01 -3.90230665e+01  5.68434189e-14\n",
      "  1.19034875e+02  1.08185330e+03]\n"
     ]
    }
   ],
   "source": [
    "from sklearn.preprocessing import StandardScaler\n",
    "\n",
    "scaler = StandardScaler()\n",
    "x_train_scaled = scaler.fit_transform(x_train)\n",
    "x_test_scaled = scaler.transform(x_test)\n",
    "\n",
    "model2 = LinearRegression()\n",
    "model2.fit(x_train_scaled,y_train)\n",
    "\n",
    "print(\"Intercept:\", model2.intercept_)\n",
    "print(\"Coefficients:\", model2.coef_)"
   ]
  },
  {
   "cell_type": "markdown",
   "id": "c8e5c7e1",
   "metadata": {},
   "source": [
    "Model 3"
   ]
  },
  {
   "cell_type": "code",
   "execution_count": 22,
   "id": "836c0a07",
   "metadata": {},
   "outputs": [
    {
     "name": "stdout",
     "output_type": "stream",
     "text": [
      "Intercept: -3652.455417040377\n",
      "Coefficients: [-1.23133159e+02 -1.94381094e-02  1.81964559e+01  3.04753836e+01]\n"
     ]
    }
   ],
   "source": [
    "selected_features = ['Age_08_04','KM','Weight','HP']\n",
    "x_train_sub = x_train[selected_features]\n",
    "x_test_sub = x_test[selected_features]\n",
    "\n",
    "model3 = LinearRegression()\n",
    "model3.fit(x_train_sub,y_train)\n",
    "\n",
    "print(\"Intercept:\", model3.intercept_)\n",
    "print(\"Coefficients:\", model3.coef_)"
   ]
  },
  {
   "cell_type": "markdown",
   "id": "4bbeba2c",
   "metadata": {},
   "source": [
    "4.Evaluate the performance of the model using appropriate evaluation metrics on the testing dataset."
   ]
  },
  {
   "cell_type": "code",
   "execution_count": 23,
   "id": "003e0ca6",
   "metadata": {},
   "outputs": [
    {
     "name": "stdout",
     "output_type": "stream",
     "text": [
      "\n",
      "Model 1 Performance\n",
      "R2 Score: 0.8870650932145698\n",
      "MSE: 1347160.2568576718\n",
      "\n",
      "Model 2 Performance (Standardized)\n",
      "R2 Score: 0.8870650932145756\n",
      "MSE: 1347160.2568576029\n",
      "\n",
      "Model 3 Performance(selected Features)\n",
      "R2 Score: 0.8954014557975172\n",
      "MSE: 1247718.7584037064\n"
     ]
    }
   ],
   "source": [
    "from sklearn.metrics import mean_squared_error, r2_score\n",
    "def evaluate(model, x_train,y_train,x_test,y_test):\n",
    "    y_pred = model.predict(x_test)\n",
    "    print(\"R2 Score:\", r2_score(y_test, y_pred))\n",
    "    print(\"MSE:\", mean_squared_error(y_test, y_pred))\n",
    "\n",
    "print(\"\\nModel 1 Performance\")\n",
    "evaluate(model1, x_train, y_train, x_test,y_test)\n",
    "\n",
    "print(\"\\nModel 2 Performance (Standardized)\")\n",
    "evaluate(model2,x_train,y_train,x_test_scaled,y_test)\n",
    "\n",
    "print(\"\\nModel 3 Performance(selected Features)\")\n",
    "evaluate(model3, x_train_sub, y_train,x_test_sub,y_test)\n",
    "    \n",
    "    "
   ]
  },
  {
   "cell_type": "markdown",
   "id": "d17928c0",
   "metadata": {},
   "source": [
    "5.Apply Lasso and Ridge methods on the model"
   ]
  },
  {
   "cell_type": "code",
   "execution_count": 24,
   "id": "e47ca669",
   "metadata": {},
   "outputs": [
    {
     "name": "stdout",
     "output_type": "stream",
     "text": [
      "Lasso R²: 0.8870934903990714\n",
      "Lasso Coefficients: {'Age_08_04': -124.57182942812848, 'KM': -0.017184422943325332, 'Fuel_Type': 610.3584767807947, 'HP': 23.727718658164846, 'Automatic': 300.4926625838789, 'cc': -0.05914519451750138, 'Doors': -40.927063554824166, 'Cylinders': 0.0, 'Gears': 624.8671226816501, 'Weight': 20.59159757744561}\n",
      "Ridge R² :  0.887161949137278\n",
      "Ridge Coefficients : {'Age_08_04': -124.56152028136835, 'KM': -0.01719846457431746, 'Fuel_Type': 605.4797587301108, 'HP': 23.802895361833894, 'Automatic': 297.9412802984595, 'cc': -0.059444517762097145, 'Doors': -41.26366924164433, 'Cylinders': 0.0, 'Gears': 614.3366877365636, 'Weight': 20.577944486176847}\n"
     ]
    }
   ],
   "source": [
    "from sklearn.linear_model import Lasso,Ridge\n",
    "\n",
    "# Lasso \n",
    "lasso = Lasso(alpha=0.1) # alpha controls regularization stregth\n",
    "lasso.fit(x_train,y_train)\n",
    "\n",
    "print(\"Lasso R²:\", lasso.score(x_test, y_test))\n",
    "print(\"Lasso Coefficients:\", dict(zip(x.columns, lasso.coef_)))\n",
    " \n",
    "# Ridge\n",
    "ridge = Ridge(alpha=1.0)\n",
    "ridge.fit(x_train,y_train)\n",
    "\n",
    "print(\"Ridge R² : \", ridge.score(x_test, y_test))\n",
    "print(\"Ridge Coefficients :\", dict(zip(x.columns,ridge.coef_)))"
   ]
  },
  {
   "cell_type": "markdown",
   "id": "bdb00a57",
   "metadata": {},
   "source": [
    "Lasso :- Interpretation: Some coefficients may shrink to 0 → means those features are not contributing.\n",
    "\n",
    "Ridge :- Interpretation: Coefficients shrink but usually none are exactly zero. Helps reduce overfitting."
   ]
  },
  {
   "cell_type": "markdown",
   "id": "ac2eece8",
   "metadata": {},
   "source": [
    "Interview Questions:"
   ]
  },
  {
   "cell_type": "markdown",
   "id": "a4687720",
   "metadata": {},
   "source": [
    "1.What is Normalization & Standardization and how is it helpful?\n",
    "\n",
    "Answer :\n",
    "\n",
    "Normalization and standardization are feature scaling techniques to bring features to a common scale, helping algorithms converge faster and perform better by preventing features with larger ranges from dominating the model. Normalization scales data to a fixed range, typically, while standardization transforms data to a mean of 0 and a standard deviation of 1. Standardization is preferred for data following a Gaussian distribution and is more resistant to outliers, whereas normalization is suitable for any distribution and for algorithms sensitive to scale\n",
    "\n",
    "Normalization\n",
    "\n",
    "What it is: Scaling numerical data to a fixed range, most commonly between 0 and 1. \n",
    "\n",
    "How it works: Uses the min-max scaling formula: (X - min(X)) / (max(X) - min(X)) to put all values in the dataset into the desired range. \n",
    "\n",
    "When to use it: When you are unsure of the data's distribution or when the data does not follow a Gaussian distribution. \n",
    "\n",
    "Helpful for: Algorithms that are sensitive to feature scales, such as K-Nearest Neighbors and neural networks. \n",
    "\n",
    "Standardization\n",
    "\n",
    "What it is: Transforms data to have a mean of 0 and a standard deviation of 1, also known as z-score scaling. \n",
    "\n",
    "How it works: Uses the formula: (X - mean(X)) / standard deviation(X). \n",
    "\n",
    "When to use it: When the data follows a Gaussian (or normal) distribution. It is also a good choice for handling outliers. \n",
    "\n",
    "Helpful for: Algorithms that assume data is normally distributed, like Principal Component Analysis (PCA) and some linear models.\n",
    "\n",
    "Why are they helpful?\n",
    "\n",
    "Improved Model Performance: Prevents features with larger numerical ranges from disproportionately influencing the learning process. \n",
    "\n",
    "Faster Convergence: Helps optimization algorithms like gradient descent converge more quickly by ensuring features are on a similar scale. \n",
    "\n",
    "Better Interpretability: Makes it easier to interpret models by creating a common scale for all features. \n",
    "\n",
    "Algorithm Requirements: Ensures that data meets the assumptions of certain algorithms that are sensitive to feature scale or distribution. "
   ]
  },
  {
   "cell_type": "markdown",
   "id": "f901a1a3",
   "metadata": {},
   "source": [
    "2.What techniques can be used to address multicollinearity in multiple linear regression?\n",
    "\n",
    "Answer :\n",
    "\n",
    "Multicollinearity occurs when independent variables in a regression model are highly correlated with each other. This makes coefficient estimates unstable and inflates their variances, which reduces interpretability.\n",
    "\n",
    "There are several ways to handle this problem:\n",
    "\n",
    "Detect it using VIF (Variance Inflation Factor). If a feature has a VIF above 10, it usually indicates problematic multicollinearity.\n",
    "\n",
    "Remove one of the correlated variables. If two predictors contain the same information, dropping one reduces redundancy.\n",
    "\n",
    "Use dimensionality reduction techniques like PCA, which transform correlated features into uncorrelated principal components.\n",
    "\n",
    "Apply regularization. Ridge Regression (L2 penalty) shrinks coefficients of correlated variables, while Lasso Regression (L1 penalty) can even eliminate some variables entirely.\n",
    "\n",
    "In practice, I usually start by checking VIF, then decide whether to drop features or switch to Ridge/Lasso depending on the business requirement — whether interpretability or prediction accuracy is more important."
   ]
  },
  {
   "cell_type": "code",
   "execution_count": null,
   "id": "381dbe2a",
   "metadata": {},
   "outputs": [],
   "source": []
  }
 ],
 "metadata": {
  "kernelspec": {
   "display_name": "base",
   "language": "python",
   "name": "python3"
  },
  "language_info": {
   "codemirror_mode": {
    "name": "ipython",
    "version": 3
   },
   "file_extension": ".py",
   "mimetype": "text/x-python",
   "name": "python",
   "nbconvert_exporter": "python",
   "pygments_lexer": "ipython3",
   "version": "3.12.7"
  }
 },
 "nbformat": 4,
 "nbformat_minor": 5
}
