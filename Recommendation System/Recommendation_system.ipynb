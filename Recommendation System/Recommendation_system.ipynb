{
 "cells": [
  {
   "cell_type": "markdown",
   "id": "76dda255",
   "metadata": {},
   "source": [
    "Recommendation System\n",
    "\n",
    "Data Description:\n",
    "\n",
    "Unique ID of each anime.\n",
    "Anime title.\n",
    "Anime broadcast type, such as TV, OVA, etc.\n",
    "anime genre.\n",
    "The number of episodes of each anime.\n",
    "The average rating for each anime compared to the number of users who gave ratings."
   ]
  },
  {
   "cell_type": "code",
   "execution_count": 1,
   "id": "8a8d96d6",
   "metadata": {},
   "outputs": [],
   "source": [
    "import pandas as pd\n",
    "import numpy as np\n"
   ]
  },
  {
   "cell_type": "markdown",
   "id": "f3c50537",
   "metadata": {},
   "source": [
    "Data Preprocessing:\n",
    "\n",
    "Load the dataset into a suitable data structure (e.g., pandas DataFrame).\n",
    "Handle missing values, if any.\n",
    "Explore the dataset to understand its structure and attributes."
   ]
  },
  {
   "cell_type": "code",
   "execution_count": 2,
   "id": "6d68dcbc",
   "metadata": {},
   "outputs": [
    {
     "data": {
      "text/html": [
       "<div>\n",
       "<style scoped>\n",
       "    .dataframe tbody tr th:only-of-type {\n",
       "        vertical-align: middle;\n",
       "    }\n",
       "\n",
       "    .dataframe tbody tr th {\n",
       "        vertical-align: top;\n",
       "    }\n",
       "\n",
       "    .dataframe thead th {\n",
       "        text-align: right;\n",
       "    }\n",
       "</style>\n",
       "<table border=\"1\" class=\"dataframe\">\n",
       "  <thead>\n",
       "    <tr style=\"text-align: right;\">\n",
       "      <th></th>\n",
       "      <th>anime_id</th>\n",
       "      <th>name</th>\n",
       "      <th>genre</th>\n",
       "      <th>type</th>\n",
       "      <th>episodes</th>\n",
       "      <th>rating</th>\n",
       "      <th>members</th>\n",
       "    </tr>\n",
       "  </thead>\n",
       "  <tbody>\n",
       "    <tr>\n",
       "      <th>0</th>\n",
       "      <td>32281</td>\n",
       "      <td>Kimi no Na wa.</td>\n",
       "      <td>Drama, Romance, School, Supernatural</td>\n",
       "      <td>Movie</td>\n",
       "      <td>1</td>\n",
       "      <td>9.37</td>\n",
       "      <td>200630</td>\n",
       "    </tr>\n",
       "    <tr>\n",
       "      <th>1</th>\n",
       "      <td>5114</td>\n",
       "      <td>Fullmetal Alchemist: Brotherhood</td>\n",
       "      <td>Action, Adventure, Drama, Fantasy, Magic, Mili...</td>\n",
       "      <td>TV</td>\n",
       "      <td>64</td>\n",
       "      <td>9.26</td>\n",
       "      <td>793665</td>\n",
       "    </tr>\n",
       "    <tr>\n",
       "      <th>2</th>\n",
       "      <td>28977</td>\n",
       "      <td>Gintama°</td>\n",
       "      <td>Action, Comedy, Historical, Parody, Samurai, S...</td>\n",
       "      <td>TV</td>\n",
       "      <td>51</td>\n",
       "      <td>9.25</td>\n",
       "      <td>114262</td>\n",
       "    </tr>\n",
       "    <tr>\n",
       "      <th>3</th>\n",
       "      <td>9253</td>\n",
       "      <td>Steins;Gate</td>\n",
       "      <td>Sci-Fi, Thriller</td>\n",
       "      <td>TV</td>\n",
       "      <td>24</td>\n",
       "      <td>9.17</td>\n",
       "      <td>673572</td>\n",
       "    </tr>\n",
       "    <tr>\n",
       "      <th>4</th>\n",
       "      <td>9969</td>\n",
       "      <td>Gintama&amp;#039;</td>\n",
       "      <td>Action, Comedy, Historical, Parody, Samurai, S...</td>\n",
       "      <td>TV</td>\n",
       "      <td>51</td>\n",
       "      <td>9.16</td>\n",
       "      <td>151266</td>\n",
       "    </tr>\n",
       "  </tbody>\n",
       "</table>\n",
       "</div>"
      ],
      "text/plain": [
       "   anime_id                              name  \\\n",
       "0     32281                    Kimi no Na wa.   \n",
       "1      5114  Fullmetal Alchemist: Brotherhood   \n",
       "2     28977                          Gintama°   \n",
       "3      9253                       Steins;Gate   \n",
       "4      9969                     Gintama&#039;   \n",
       "\n",
       "                                               genre   type episodes  rating  \\\n",
       "0               Drama, Romance, School, Supernatural  Movie        1    9.37   \n",
       "1  Action, Adventure, Drama, Fantasy, Magic, Mili...     TV       64    9.26   \n",
       "2  Action, Comedy, Historical, Parody, Samurai, S...     TV       51    9.25   \n",
       "3                                   Sci-Fi, Thriller     TV       24    9.17   \n",
       "4  Action, Comedy, Historical, Parody, Samurai, S...     TV       51    9.16   \n",
       "\n",
       "   members  \n",
       "0   200630  \n",
       "1   793665  \n",
       "2   114262  \n",
       "3   673572  \n",
       "4   151266  "
      ]
     },
     "execution_count": 2,
     "metadata": {},
     "output_type": "execute_result"
    }
   ],
   "source": [
    "df = pd.read_csv('anime.csv')\n",
    "df.head()"
   ]
  },
  {
   "cell_type": "code",
   "execution_count": 3,
   "id": "46168aec",
   "metadata": {},
   "outputs": [
    {
     "name": "stdout",
     "output_type": "stream",
     "text": [
      "<class 'pandas.core.frame.DataFrame'>\n",
      "RangeIndex: 12294 entries, 0 to 12293\n",
      "Data columns (total 7 columns):\n",
      " #   Column    Non-Null Count  Dtype  \n",
      "---  ------    --------------  -----  \n",
      " 0   anime_id  12294 non-null  int64  \n",
      " 1   name      12294 non-null  object \n",
      " 2   genre     12232 non-null  object \n",
      " 3   type      12269 non-null  object \n",
      " 4   episodes  12294 non-null  object \n",
      " 5   rating    12064 non-null  float64\n",
      " 6   members   12294 non-null  int64  \n",
      "dtypes: float64(1), int64(2), object(4)\n",
      "memory usage: 672.5+ KB\n",
      "None\n"
     ]
    }
   ],
   "source": [
    "print(df.info())\n"
   ]
  },
  {
   "cell_type": "code",
   "execution_count": 4,
   "id": "7e94a0e1",
   "metadata": {},
   "outputs": [
    {
     "data": {
      "text/plain": [
       "<bound method NDFrame.describe of        anime_id                                               name  \\\n",
       "0         32281                                     Kimi no Na wa.   \n",
       "1          5114                   Fullmetal Alchemist: Brotherhood   \n",
       "2         28977                                           Gintama°   \n",
       "3          9253                                        Steins;Gate   \n",
       "4          9969                                      Gintama&#039;   \n",
       "...         ...                                                ...   \n",
       "12289      9316       Toushindai My Lover: Minami tai Mecha-Minami   \n",
       "12290      5543                                        Under World   \n",
       "12291      5621                     Violence Gekiga David no Hoshi   \n",
       "12292      6133  Violence Gekiga Shin David no Hoshi: Inma Dens...   \n",
       "12293     26081                   Yasuji no Pornorama: Yacchimae!!   \n",
       "\n",
       "                                                   genre   type episodes  \\\n",
       "0                   Drama, Romance, School, Supernatural  Movie        1   \n",
       "1      Action, Adventure, Drama, Fantasy, Magic, Mili...     TV       64   \n",
       "2      Action, Comedy, Historical, Parody, Samurai, S...     TV       51   \n",
       "3                                       Sci-Fi, Thriller     TV       24   \n",
       "4      Action, Comedy, Historical, Parody, Samurai, S...     TV       51   \n",
       "...                                                  ...    ...      ...   \n",
       "12289                                             Hentai    OVA        1   \n",
       "12290                                             Hentai    OVA        1   \n",
       "12291                                             Hentai    OVA        4   \n",
       "12292                                             Hentai    OVA        1   \n",
       "12293                                             Hentai  Movie        1   \n",
       "\n",
       "       rating  members  \n",
       "0        9.37   200630  \n",
       "1        9.26   793665  \n",
       "2        9.25   114262  \n",
       "3        9.17   673572  \n",
       "4        9.16   151266  \n",
       "...       ...      ...  \n",
       "12289    4.15      211  \n",
       "12290    4.28      183  \n",
       "12291    4.88      219  \n",
       "12292    4.98      175  \n",
       "12293    5.46      142  \n",
       "\n",
       "[12294 rows x 7 columns]>"
      ]
     },
     "execution_count": 4,
     "metadata": {},
     "output_type": "execute_result"
    }
   ],
   "source": [
    "df.describe"
   ]
  },
  {
   "cell_type": "code",
   "execution_count": 5,
   "id": "38ad7860",
   "metadata": {},
   "outputs": [
    {
     "data": {
      "text/plain": [
       "anime_id      0\n",
       "name          0\n",
       "genre        62\n",
       "type         25\n",
       "episodes      0\n",
       "rating      230\n",
       "members       0\n",
       "dtype: int64"
      ]
     },
     "execution_count": 5,
     "metadata": {},
     "output_type": "execute_result"
    }
   ],
   "source": [
    "df.isnull().sum()"
   ]
  },
  {
   "cell_type": "code",
   "execution_count": 6,
   "id": "458c54db",
   "metadata": {},
   "outputs": [
    {
     "name": "stderr",
     "output_type": "stream",
     "text": [
      "C:\\Users\\patil\\AppData\\Local\\Temp\\ipykernel_27888\\369429268.py:5: FutureWarning: A value is trying to be set on a copy of a DataFrame or Series through chained assignment using an inplace method.\n",
      "The behavior will change in pandas 3.0. This inplace method will never work because the intermediate object on which we are setting values always behaves as a copy.\n",
      "\n",
      "For example, when doing 'df[col].method(value, inplace=True)', try using 'df.method({col: value}, inplace=True)' or df[col] = df[col].method(value) instead, to perform the operation inplace on the original object.\n",
      "\n",
      "\n",
      "  df['rating'].fillna(df['rating'].mean(), inplace=True)\n"
     ]
    }
   ],
   "source": [
    "# Drop rows missing essential info\n",
    "df.dropna(subset=['anime_id', 'name'], inplace=True)\n",
    "\n",
    "# Fill missing ratings with mean\n",
    "df['rating'].fillna(df['rating'].mean(), inplace=True)\n",
    "\n",
    "# Fill missing genres with empty string\n",
    "df['genre'] = df['genre'].fillna('')\n",
    "\n",
    "#FIll missing type with empty string\n",
    "df['type'] = df['type'].fillna('')"
   ]
  },
  {
   "cell_type": "code",
   "execution_count": 7,
   "id": "06249ad1",
   "metadata": {},
   "outputs": [
    {
     "data": {
      "text/plain": [
       "anime_id    0\n",
       "name        0\n",
       "genre       0\n",
       "type        0\n",
       "episodes    0\n",
       "rating      0\n",
       "members     0\n",
       "dtype: int64"
      ]
     },
     "execution_count": 7,
     "metadata": {},
     "output_type": "execute_result"
    }
   ],
   "source": [
    "df.isnull().sum()"
   ]
  },
  {
   "cell_type": "markdown",
   "id": "f10844ee",
   "metadata": {},
   "source": [
    "Step 2: Feature Extraction"
   ]
  },
  {
   "cell_type": "code",
   "execution_count": 8,
   "id": "aa21d811",
   "metadata": {},
   "outputs": [],
   "source": [
    "from sklearn.preprocessing import MultiLabelBinarizer\n",
    "\n",
    "# Convert genre string into list\n",
    "df['genre'] = df['genre'].fillna('Unknown').apply(lambda x: x.split(','))\n",
    "\n",
    "# One-hot encode genres\n",
    "mlb = MultiLabelBinarizer()\n",
    "genre_encoded = mlb.fit_transform(df['genre'])\n",
    "\n",
    "# Combine genre features with rating\n",
    "from sklearn.preprocessing import StandardScaler\n",
    "numerical_features = df[['rating', 'members']].fillna(0).values\n",
    "numerical_features_scaled = StandardScaler().fit_transform(numerical_features)\n",
    "\n",
    "# Final feature matrix\n",
    "X = np.hstack([genre_encoded, numerical_features_scaled])\n"
   ]
  },
  {
   "cell_type": "markdown",
   "id": "aa21d811",
   "metadata": {},
   "source": [
    "Step 3: Compute Cosine Similarity"
   ]
  },
  {
   "cell_type": "code",
   "execution_count": 9,
   "id": "6370a911",
   "metadata": {},
   "outputs": [],
   "source": [
    "from sklearn.metrics.pairwise import cosine_similarity\n",
    "\n",
    "# Compute cosine similarity between all anime\n",
    "cos_sim = cosine_similarity(X, X)\n",
    "\n",
    "# Create a mapping from anime name to index\n",
    "anime_indices = pd.Series(df.index, index=df['name']).drop_duplicates()\n"
   ]
  },
  {
   "cell_type": "markdown",
   "id": "fce4eb85",
   "metadata": {},
   "source": [
    "Step 4: Recommendation Function"
   ]
  },
  {
   "cell_type": "code",
   "execution_count": 10,
   "id": "847569e8",
   "metadata": {},
   "outputs": [],
   "source": [
    "def recommend_anime(title, top_n=10, similarity_threshold=0.2):\n",
    "    idx = anime_indices[title]\n",
    "    sim_scores = list(enumerate(cos_sim[idx]))\n",
    "    \n",
    "    # Filter by threshold\n",
    "    sim_scores = [s for s in sim_scores if s[1] >= similarity_threshold and s[0] != idx]\n",
    "    \n",
    "    # Sort by similarity score\n",
    "    sim_scores = sorted(sim_scores, key=lambda x: x[1], reverse=True)\n",
    "    \n",
    "    top_indices = [i[0] for i in sim_scores[:top_n]]\n",
    "    \n",
    "    return df['name'].iloc[top_indices].tolist()\n"
   ]
  },
  {
   "cell_type": "code",
   "execution_count": 11,
   "id": "ec805aa8",
   "metadata": {},
   "outputs": [
    {
     "data": {
      "text/plain": [
       "['Naruto: Shippuuden',\n",
       " 'Bleach',\n",
       " 'Shingeki no Kyojin',\n",
       " 'Kill la Kill',\n",
       " 'Angel Beats!']"
      ]
     },
     "execution_count": 11,
     "metadata": {},
     "output_type": "execute_result"
    }
   ],
   "source": [
    "recommend_anime(\"Naruto\", top_n=5, similarity_threshold=0.3)"
   ]
  },
  {
   "cell_type": "markdown",
   "id": "3b95c868",
   "metadata": {},
   "source": [
    "Step 5: Experiment with Thresholds"
   ]
  },
  {
   "cell_type": "code",
   "execution_count": 12,
   "id": "865e5b9a",
   "metadata": {},
   "outputs": [
    {
     "name": "stdout",
     "output_type": "stream",
     "text": [
      "Threshold 0.1: ['Naruto: Shippuuden', 'Bleach', 'Shingeki no Kyojin', 'Kill la Kill', 'Angel Beats!', 'Soul Eater', 'Sword Art Online', 'Fairy Tail', 'Ao no Exorcist', 'Death Note']\n",
      "Threshold 0.2: ['Naruto: Shippuuden', 'Bleach', 'Shingeki no Kyojin', 'Kill la Kill', 'Angel Beats!', 'Soul Eater', 'Sword Art Online', 'Fairy Tail', 'Ao no Exorcist', 'Death Note']\n",
      "Threshold 0.3: ['Naruto: Shippuuden', 'Bleach', 'Shingeki no Kyojin', 'Kill la Kill', 'Angel Beats!', 'Soul Eater', 'Sword Art Online', 'Fairy Tail', 'Ao no Exorcist', 'Death Note']\n",
      "Threshold 0.5: ['Naruto: Shippuuden', 'Bleach', 'Shingeki no Kyojin', 'Kill la Kill', 'Angel Beats!', 'Soul Eater', 'Sword Art Online', 'Fairy Tail', 'Ao no Exorcist', 'Death Note']\n"
     ]
    }
   ],
   "source": [
    "thresholds = [0.1, 0.2, 0.3, 0.5]\n",
    "for t in thresholds:\n",
    "    recommendations = recommend_anime(\"Naruto\", top_n=10, similarity_threshold=t)\n",
    "    print(f\"Threshold {t}: {recommendations}\")"
   ]
  },
  {
   "cell_type": "markdown",
   "id": "298fb138",
   "metadata": {},
   "source": []
  },
  {
   "cell_type": "markdown",
   "id": "c86fdb7b",
   "metadata": {},
   "source": [
    "Observation:\n",
    "\n",
    "Lower threshold → more recommendations but less similar.\n",
    "\n",
    "Higher threshold → fewer, more focused recommendations."
   ]
  },
  {
   "cell_type": "markdown",
   "id": "908a675f",
   "metadata": {},
   "source": [
    "Step 6: Evaluation"
   ]
  },
  {
   "cell_type": "code",
   "execution_count": 13,
   "id": "f364341f",
   "metadata": {},
   "outputs": [
    {
     "name": "stdout",
     "output_type": "stream",
     "text": [
      "Precision: 0.1000, Recall: 0.3333, F1-score: 0.1538\n"
     ]
    }
   ],
   "source": [
    "# Example: list of anime the user actually liked\n",
    "liked_anime = [\"Naruto\", \"Bleach\", \"One Piece\"]\n",
    "\n",
    "# Create binary arrays\n",
    "y_true = np.array([1 if anime in liked_anime else 0 for anime in df['name']])\n",
    "\n",
    "# Example: anime recommended by your system\n",
    "recommended_anime = recommend_anime(\"Naruto\", top_n=10, similarity_threshold=0.3)\n",
    "y_pred = np.array([1 if anime in recommended_anime else 0 for anime in df['name']])\n",
    "\n",
    "# Import metrics\n",
    "from sklearn.metrics import precision_score, recall_score, f1_score\n",
    "\n",
    "# Calculate evaluation metrics\n",
    "precision = precision_score(y_true, y_pred)\n",
    "recall = recall_score(y_true, y_pred)\n",
    "f1 = f1_score(y_true, y_pred)\n",
    "\n",
    "print(f\"Precision: {precision:.4f}, Recall: {recall:.4f}, F1-score: {f1:.4f}\")\n"
   ]
  },
  {
   "cell_type": "markdown",
   "id": "583c1de9",
   "metadata": {},
   "source": [
    "Step 7: Analysis and Improvements\n",
    "\n",
    "Threshold Impact: Higher threshold → fewer but more relevant recommendations.\n",
    "\n",
    "Features: Currently using genres + rating; adding episodes, type, tags could improve similarity.\n",
    "\n",
    "Hybrid approach: Combine content-based with collaborative filtering for better personalization.\n",
    "\n",
    "Performance: Cosine similarity is fast; for large datasets, consider sparse matrices or approximate nearest neighbors."
   ]
  },
  {
   "cell_type": "markdown",
   "id": "9837d967",
   "metadata": {},
   "source": [
    "**1. Difference between User-Based and Item-Based Collaborative Filtering**\n",
    "\n",
    "User-Based Collaborative Filtering (UBCF):\n",
    "\n",
    "Looks at similarities between users.\n",
    "\n",
    "Assumes that if two users have rated items similarly in the past, they will continue to like similar items in the future.\n",
    "\n",
    "Example: If User A and User B both like Naruto and One Piece, and User A also likes Bleach, then Bleach can be recommended to User B.\n",
    "\n",
    "Item-Based Collaborative Filtering (IBCF):\n",
    "\n",
    "Looks at similarities between items.\n",
    "\n",
    "Assumes that if a user liked an item, they will also like other items that are similar to it.\n",
    "\n",
    "Example: If many users who liked Attack on Titan also liked Death Note, then Death Note will be recommended to a user who liked Attack on Titan.\n",
    "\n",
    "\n",
    "\n",
    "**2. What is Collaborative Filtering, and How Does It Work?**\n",
    "\n",
    "Definition:\n",
    "Collaborative Filtering (CF) is a recommendation technique that makes predictions about a user’s interests by collecting preferences from many users (a “collaboration”). It’s widely used in recommendation systems like Netflix, Amazon, and Spotify.\n",
    "\n",
    "How It Works:\n",
    "\n",
    "Collect user-item interaction data (ratings, likes, purchases, views, etc.).\n",
    "\n",
    "Find patterns:\n",
    "\n",
    "Either users with similar preferences (user-based)\n",
    "\n",
    "Or items consumed together (item-based).\n",
    "\n",
    "Recommend items based on these patterns.\n",
    "\n",
    "Example:\n",
    "\n",
    "If you rated Inception and Interstellar highly, and many others who liked these movies also liked Tenet, the system will recommend Tenet to you."
   ]
  }
 ],
 "metadata": {
  "kernelspec": {
   "display_name": "base",
   "language": "python",
   "name": "python3"
  },
  "language_info": {
   "codemirror_mode": {
    "name": "ipython",
    "version": 3
   },
   "file_extension": ".py",
   "mimetype": "text/x-python",
   "name": "python",
   "nbconvert_exporter": "python",
   "pygments_lexer": "ipython3",
   "version": "3.12.7"
  }
 },
 "nbformat": 4,
 "nbformat_minor": 5
}
